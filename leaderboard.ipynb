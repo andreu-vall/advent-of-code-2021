{
 "cells": [
  {
   "cell_type": "code",
   "execution_count": 1,
   "metadata": {},
   "outputs": [],
   "source": [
    "import requests\n",
    "import utils\n",
    "\n",
    "url = 'https://adventofcode.com/2021/leaderboard/private/view/1075819.json'\n",
    "#url = 'https://adventofcode.com/2020/leaderboard/private/view/1066392.json'\n",
    "request = requests.get(url, cookies=utils.get_cookies())\n",
    "data = request.json()"
   ]
  },
  {
   "cell_type": "code",
   "execution_count": 2,
   "metadata": {},
   "outputs": [
    {
     "data": {
      "text/html": [
       "<style type=\"text/css\">\n",
       "</style>\n",
       "<table id=\"T_eba5d_\">\n",
       "  <thead>\n",
       "    <tr>\n",
       "      <th class=\"col_heading level0 col0\" >name</th>\n",
       "      <th class=\"col_heading level0 col1\" >score</th>\n",
       "      <th class=\"col_heading level0 col2\" >stars</th>\n",
       "      <th class=\"col_heading level0 col3\" >1.1</th>\n",
       "      <th class=\"col_heading level0 col4\" >1.2</th>\n",
       "      <th class=\"col_heading level0 col5\" >2.1</th>\n",
       "      <th class=\"col_heading level0 col6\" >2.2</th>\n",
       "      <th class=\"col_heading level0 col7\" >3.1</th>\n",
       "      <th class=\"col_heading level0 col8\" >3.2</th>\n",
       "      <th class=\"col_heading level0 col9\" >4.1</th>\n",
       "      <th class=\"col_heading level0 col10\" >4.2</th>\n",
       "      <th class=\"col_heading level0 col11\" >5.1</th>\n",
       "      <th class=\"col_heading level0 col12\" >5.2</th>\n",
       "      <th class=\"col_heading level0 col13\" >accumulated_time</th>\n",
       "    </tr>\n",
       "  </thead>\n",
       "  <tbody>\n",
       "    <tr>\n",
       "      <td id=\"T_eba5d_row0_col0\" class=\"data row0 col0\" >Arnau Q</td>\n",
       "      <td id=\"T_eba5d_row0_col1\" class=\"data row0 col1\" >134</td>\n",
       "      <td id=\"T_eba5d_row0_col2\" class=\"data row0 col2\" >10</td>\n",
       "      <td id=\"T_eba5d_row0_col3\" class=\"data row0 col3\" >08:56:48</td>\n",
       "      <td id=\"T_eba5d_row0_col4\" class=\"data row0 col4\" >00:02:38</td>\n",
       "      <td id=\"T_eba5d_row0_col5\" class=\"data row0 col5\" >08:17:02</td>\n",
       "      <td id=\"T_eba5d_row0_col6\" class=\"data row0 col6\" >00:03:07</td>\n",
       "      <td id=\"T_eba5d_row0_col7\" class=\"data row0 col7\" >09:44:49</td>\n",
       "      <td id=\"T_eba5d_row0_col8\" class=\"data row0 col8\" >00:30:14</td>\n",
       "      <td id=\"T_eba5d_row0_col9\" class=\"data row0 col9\" >10:07:12</td>\n",
       "      <td id=\"T_eba5d_row0_col10\" class=\"data row0 col10\" >00:11:57</td>\n",
       "      <td id=\"T_eba5d_row0_col11\" class=\"data row0 col11\" >09:28:56</td>\n",
       "      <td id=\"T_eba5d_row0_col12\" class=\"data row0 col12\" >00:20:05</td>\n",
       "      <td id=\"T_eba5d_row0_col13\" class=\"data row0 col13\" >01:08:01</td>\n",
       "    </tr>\n",
       "    <tr>\n",
       "      <td id=\"T_eba5d_row1_col0\" class=\"data row1 col0\" >Andreu Vall Hernàndez</td>\n",
       "      <td id=\"T_eba5d_row1_col1\" class=\"data row1 col1\" >124</td>\n",
       "      <td id=\"T_eba5d_row1_col2\" class=\"data row1 col2\" >10</td>\n",
       "      <td id=\"T_eba5d_row1_col3\" class=\"data row1 col3\" >08:24:30</td>\n",
       "      <td id=\"T_eba5d_row1_col4\" class=\"data row1 col4\" >00:07:44</td>\n",
       "      <td id=\"T_eba5d_row1_col5\" class=\"data row1 col5\" >09:11:17</td>\n",
       "      <td id=\"T_eba5d_row1_col6\" class=\"data row1 col6\" >00:02:02</td>\n",
       "      <td id=\"T_eba5d_row1_col7\" class=\"data row1 col7\" >12:33:15</td>\n",
       "      <td id=\"T_eba5d_row1_col8\" class=\"data row1 col8\" >00:27:39</td>\n",
       "      <td id=\"T_eba5d_row1_col9\" class=\"data row1 col9\" >10:01:43</td>\n",
       "      <td id=\"T_eba5d_row1_col10\" class=\"data row1 col10\" >00:09:16</td>\n",
       "      <td id=\"T_eba5d_row1_col11\" class=\"data row1 col11\" >11:17:50</td>\n",
       "      <td id=\"T_eba5d_row1_col12\" class=\"data row1 col12\" >00:08:50</td>\n",
       "      <td id=\"T_eba5d_row1_col13\" class=\"data row1 col13\" >00:55:31</td>\n",
       "    </tr>\n",
       "    <tr>\n",
       "      <td id=\"T_eba5d_row2_col0\" class=\"data row2 col0\" >albertsalles4</td>\n",
       "      <td id=\"T_eba5d_row2_col1\" class=\"data row2 col1\" >120</td>\n",
       "      <td id=\"T_eba5d_row2_col2\" class=\"data row2 col2\" >10</td>\n",
       "      <td id=\"T_eba5d_row2_col3\" class=\"data row2 col3\" >10:22:07</td>\n",
       "      <td id=\"T_eba5d_row2_col4\" class=\"data row2 col4\" >00:08:49</td>\n",
       "      <td id=\"T_eba5d_row2_col5\" class=\"data row2 col5\" >09:21:50</td>\n",
       "      <td id=\"T_eba5d_row2_col6\" class=\"data row2 col6\" >00:02:31</td>\n",
       "      <td id=\"T_eba5d_row2_col7\" class=\"data row2 col7\" >10:10:11</td>\n",
       "      <td id=\"T_eba5d_row2_col8\" class=\"data row2 col8\" >00:15:24</td>\n",
       "      <td id=\"T_eba5d_row2_col9\" class=\"data row2 col9\" >11:54:16</td>\n",
       "      <td id=\"T_eba5d_row2_col10\" class=\"data row2 col10\" >00:12:10</td>\n",
       "      <td id=\"T_eba5d_row2_col11\" class=\"data row2 col11\" >10:26:11</td>\n",
       "      <td id=\"T_eba5d_row2_col12\" class=\"data row2 col12\" >00:09:42</td>\n",
       "      <td id=\"T_eba5d_row2_col13\" class=\"data row2 col13\" >00:48:36</td>\n",
       "    </tr>\n",
       "    <tr>\n",
       "      <td id=\"T_eba5d_row3_col0\" class=\"data row3 col0\" >David Rial Figols</td>\n",
       "      <td id=\"T_eba5d_row3_col1\" class=\"data row3 col1\" >99</td>\n",
       "      <td id=\"T_eba5d_row3_col2\" class=\"data row3 col2\" >9</td>\n",
       "      <td id=\"T_eba5d_row3_col3\" class=\"data row3 col3\" >10:36:31</td>\n",
       "      <td id=\"T_eba5d_row3_col4\" class=\"data row3 col4\" >00:08:55</td>\n",
       "      <td id=\"T_eba5d_row3_col5\" class=\"data row3 col5\" >09:31:31</td>\n",
       "      <td id=\"T_eba5d_row3_col6\" class=\"data row3 col6\" >00:02:43</td>\n",
       "      <td id=\"T_eba5d_row3_col7\" class=\"data row3 col7\" >07:09:12</td>\n",
       "      <td id=\"T_eba5d_row3_col8\" class=\"data row3 col8\" >00:36:45</td>\n",
       "      <td id=\"T_eba5d_row3_col9\" class=\"data row3 col9\" >16:58:57</td>\n",
       "      <td id=\"T_eba5d_row3_col10\" class=\"data row3 col10\" >00:06:52</td>\n",
       "      <td id=\"T_eba5d_row3_col11\" class=\"data row3 col11\" >11:25:20</td>\n",
       "      <td id=\"T_eba5d_row3_col12\" class=\"data row3 col12\" >NaT</td>\n",
       "      <td id=\"T_eba5d_row3_col13\" class=\"data row3 col13\" >NaT</td>\n",
       "    </tr>\n",
       "    <tr>\n",
       "      <td id=\"T_eba5d_row4_col0\" class=\"data row4 col0\" >Antonio Tigri</td>\n",
       "      <td id=\"T_eba5d_row4_col1\" class=\"data row4 col1\" >77</td>\n",
       "      <td id=\"T_eba5d_row4_col2\" class=\"data row4 col2\" >8</td>\n",
       "      <td id=\"T_eba5d_row4_col3\" class=\"data row4 col3\" >15:22:36</td>\n",
       "      <td id=\"T_eba5d_row4_col4\" class=\"data row4 col4\" >00:12:46</td>\n",
       "      <td id=\"T_eba5d_row4_col5\" class=\"data row4 col5\" >10:56:21</td>\n",
       "      <td id=\"T_eba5d_row4_col6\" class=\"data row4 col6\" >00:03:52</td>\n",
       "      <td id=\"T_eba5d_row4_col7\" class=\"data row4 col7\" >11:37:32</td>\n",
       "      <td id=\"T_eba5d_row4_col8\" class=\"data row4 col8\" >00:34:25</td>\n",
       "      <td id=\"T_eba5d_row4_col9\" class=\"data row4 col9\" >12:27:54</td>\n",
       "      <td id=\"T_eba5d_row4_col10\" class=\"data row4 col10\" >00:17:41</td>\n",
       "      <td id=\"T_eba5d_row4_col11\" class=\"data row4 col11\" >NaT</td>\n",
       "      <td id=\"T_eba5d_row4_col12\" class=\"data row4 col12\" >NaT</td>\n",
       "      <td id=\"T_eba5d_row4_col13\" class=\"data row4 col13\" >NaT</td>\n",
       "    </tr>\n",
       "    <tr>\n",
       "      <td id=\"T_eba5d_row5_col0\" class=\"data row5 col0\" >Arnau Martínez Tomàs</td>\n",
       "      <td id=\"T_eba5d_row5_col1\" class=\"data row5 col1\" >74</td>\n",
       "      <td id=\"T_eba5d_row5_col2\" class=\"data row5 col2\" >8</td>\n",
       "      <td id=\"T_eba5d_row5_col3\" class=\"data row5 col3\" >23:53:14</td>\n",
       "      <td id=\"T_eba5d_row5_col4\" class=\"data row5 col4\" >00:45:12</td>\n",
       "      <td id=\"T_eba5d_row5_col5\" class=\"data row5 col5\" >10:23:49</td>\n",
       "      <td id=\"T_eba5d_row5_col6\" class=\"data row5 col6\" >00:25:47</td>\n",
       "      <td id=\"T_eba5d_row5_col7\" class=\"data row5 col7\" >12:59:36</td>\n",
       "      <td id=\"T_eba5d_row5_col8\" class=\"data row5 col8\" >00:30:52</td>\n",
       "      <td id=\"T_eba5d_row5_col9\" class=\"data row5 col9\" >11:25:20</td>\n",
       "      <td id=\"T_eba5d_row5_col10\" class=\"data row5 col10\" >00:12:41</td>\n",
       "      <td id=\"T_eba5d_row5_col11\" class=\"data row5 col11\" >NaT</td>\n",
       "      <td id=\"T_eba5d_row5_col12\" class=\"data row5 col12\" >NaT</td>\n",
       "      <td id=\"T_eba5d_row5_col13\" class=\"data row5 col13\" >NaT</td>\n",
       "    </tr>\n",
       "    <tr>\n",
       "      <td id=\"T_eba5d_row6_col0\" class=\"data row6 col0\" >sarabase</td>\n",
       "      <td id=\"T_eba5d_row6_col1\" class=\"data row6 col1\" >67</td>\n",
       "      <td id=\"T_eba5d_row6_col2\" class=\"data row6 col2\" >8</td>\n",
       "      <td id=\"T_eba5d_row6_col3\" class=\"data row6 col3\" >18:32:58</td>\n",
       "      <td id=\"T_eba5d_row6_col4\" class=\"data row6 col4\" >00:18:29</td>\n",
       "      <td id=\"T_eba5d_row6_col5\" class=\"data row6 col5\" >12:06:40</td>\n",
       "      <td id=\"T_eba5d_row6_col6\" class=\"data row6 col6\" >00:03:32</td>\n",
       "      <td id=\"T_eba5d_row6_col7\" class=\"data row6 col7\" >11:23:58</td>\n",
       "      <td id=\"T_eba5d_row6_col8\" class=\"data row6 col8\" >00:55:36</td>\n",
       "      <td id=\"T_eba5d_row6_col9\" class=\"data row6 col9\" >17:37:14</td>\n",
       "      <td id=\"T_eba5d_row6_col10\" class=\"data row6 col10\" >00:06:45</td>\n",
       "      <td id=\"T_eba5d_row6_col11\" class=\"data row6 col11\" >NaT</td>\n",
       "      <td id=\"T_eba5d_row6_col12\" class=\"data row6 col12\" >NaT</td>\n",
       "      <td id=\"T_eba5d_row6_col13\" class=\"data row6 col13\" >NaT</td>\n",
       "    </tr>\n",
       "    <tr>\n",
       "      <td id=\"T_eba5d_row7_col0\" class=\"data row7 col0\" >EstherRH00</td>\n",
       "      <td id=\"T_eba5d_row7_col1\" class=\"data row7 col1\" >66</td>\n",
       "      <td id=\"T_eba5d_row7_col2\" class=\"data row7 col2\" >8</td>\n",
       "      <td id=\"T_eba5d_row7_col3\" class=\"data row7 col3\" >13:11:40</td>\n",
       "      <td id=\"T_eba5d_row7_col4\" class=\"data row7 col4\" >00:42:39</td>\n",
       "      <td id=\"T_eba5d_row7_col5\" class=\"data row7 col5\" >21:05:03</td>\n",
       "      <td id=\"T_eba5d_row7_col6\" class=\"data row7 col6\" >00:03:25</td>\n",
       "      <td id=\"T_eba5d_row7_col7\" class=\"data row7 col7\" >13:39:55</td>\n",
       "      <td id=\"T_eba5d_row7_col8\" class=\"data row7 col8\" >00:23:11</td>\n",
       "      <td id=\"T_eba5d_row7_col9\" class=\"data row7 col9\" >13:20:28</td>\n",
       "      <td id=\"T_eba5d_row7_col10\" class=\"data row7 col10\" >00:16:00</td>\n",
       "      <td id=\"T_eba5d_row7_col11\" class=\"data row7 col11\" >NaT</td>\n",
       "      <td id=\"T_eba5d_row7_col12\" class=\"data row7 col12\" >NaT</td>\n",
       "      <td id=\"T_eba5d_row7_col13\" class=\"data row7 col13\" >NaT</td>\n",
       "    </tr>\n",
       "    <tr>\n",
       "      <td id=\"T_eba5d_row8_col0\" class=\"data row8 col0\" >Oriol Saguillo Gonzalez</td>\n",
       "      <td id=\"T_eba5d_row8_col1\" class=\"data row8 col1\" >0</td>\n",
       "      <td id=\"T_eba5d_row8_col2\" class=\"data row8 col2\" >0</td>\n",
       "      <td id=\"T_eba5d_row8_col3\" class=\"data row8 col3\" >NaT</td>\n",
       "      <td id=\"T_eba5d_row8_col4\" class=\"data row8 col4\" >NaT</td>\n",
       "      <td id=\"T_eba5d_row8_col5\" class=\"data row8 col5\" >NaT</td>\n",
       "      <td id=\"T_eba5d_row8_col6\" class=\"data row8 col6\" >NaT</td>\n",
       "      <td id=\"T_eba5d_row8_col7\" class=\"data row8 col7\" >NaT</td>\n",
       "      <td id=\"T_eba5d_row8_col8\" class=\"data row8 col8\" >NaT</td>\n",
       "      <td id=\"T_eba5d_row8_col9\" class=\"data row8 col9\" >NaT</td>\n",
       "      <td id=\"T_eba5d_row8_col10\" class=\"data row8 col10\" >NaT</td>\n",
       "      <td id=\"T_eba5d_row8_col11\" class=\"data row8 col11\" >NaT</td>\n",
       "      <td id=\"T_eba5d_row8_col12\" class=\"data row8 col12\" >NaT</td>\n",
       "      <td id=\"T_eba5d_row8_col13\" class=\"data row8 col13\" >NaT</td>\n",
       "    </tr>\n",
       "    <tr>\n",
       "      <td id=\"T_eba5d_row9_col0\" class=\"data row9 col0\" >🦉⚴ | Sylvie Liz Shadow | BLM | 💙💖🤍💖💙</td>\n",
       "      <td id=\"T_eba5d_row9_col1\" class=\"data row9 col1\" >0</td>\n",
       "      <td id=\"T_eba5d_row9_col2\" class=\"data row9 col2\" >0</td>\n",
       "      <td id=\"T_eba5d_row9_col3\" class=\"data row9 col3\" >NaT</td>\n",
       "      <td id=\"T_eba5d_row9_col4\" class=\"data row9 col4\" >NaT</td>\n",
       "      <td id=\"T_eba5d_row9_col5\" class=\"data row9 col5\" >NaT</td>\n",
       "      <td id=\"T_eba5d_row9_col6\" class=\"data row9 col6\" >NaT</td>\n",
       "      <td id=\"T_eba5d_row9_col7\" class=\"data row9 col7\" >NaT</td>\n",
       "      <td id=\"T_eba5d_row9_col8\" class=\"data row9 col8\" >NaT</td>\n",
       "      <td id=\"T_eba5d_row9_col9\" class=\"data row9 col9\" >NaT</td>\n",
       "      <td id=\"T_eba5d_row9_col10\" class=\"data row9 col10\" >NaT</td>\n",
       "      <td id=\"T_eba5d_row9_col11\" class=\"data row9 col11\" >NaT</td>\n",
       "      <td id=\"T_eba5d_row9_col12\" class=\"data row9 col12\" >NaT</td>\n",
       "      <td id=\"T_eba5d_row9_col13\" class=\"data row9 col13\" >NaT</td>\n",
       "    </tr>\n",
       "    <tr>\n",
       "      <td id=\"T_eba5d_row10_col0\" class=\"data row10 col0\" >Joan Orteu</td>\n",
       "      <td id=\"T_eba5d_row10_col1\" class=\"data row10 col1\" >0</td>\n",
       "      <td id=\"T_eba5d_row10_col2\" class=\"data row10 col2\" >0</td>\n",
       "      <td id=\"T_eba5d_row10_col3\" class=\"data row10 col3\" >NaT</td>\n",
       "      <td id=\"T_eba5d_row10_col4\" class=\"data row10 col4\" >NaT</td>\n",
       "      <td id=\"T_eba5d_row10_col5\" class=\"data row10 col5\" >NaT</td>\n",
       "      <td id=\"T_eba5d_row10_col6\" class=\"data row10 col6\" >NaT</td>\n",
       "      <td id=\"T_eba5d_row10_col7\" class=\"data row10 col7\" >NaT</td>\n",
       "      <td id=\"T_eba5d_row10_col8\" class=\"data row10 col8\" >NaT</td>\n",
       "      <td id=\"T_eba5d_row10_col9\" class=\"data row10 col9\" >NaT</td>\n",
       "      <td id=\"T_eba5d_row10_col10\" class=\"data row10 col10\" >NaT</td>\n",
       "      <td id=\"T_eba5d_row10_col11\" class=\"data row10 col11\" >NaT</td>\n",
       "      <td id=\"T_eba5d_row10_col12\" class=\"data row10 col12\" >NaT</td>\n",
       "      <td id=\"T_eba5d_row10_col13\" class=\"data row10 col13\" >NaT</td>\n",
       "    </tr>\n",
       "    <tr>\n",
       "      <td id=\"T_eba5d_row11_col0\" class=\"data row11 col0\" >Mates Info</td>\n",
       "      <td id=\"T_eba5d_row11_col1\" class=\"data row11 col1\" >0</td>\n",
       "      <td id=\"T_eba5d_row11_col2\" class=\"data row11 col2\" >0</td>\n",
       "      <td id=\"T_eba5d_row11_col3\" class=\"data row11 col3\" >NaT</td>\n",
       "      <td id=\"T_eba5d_row11_col4\" class=\"data row11 col4\" >NaT</td>\n",
       "      <td id=\"T_eba5d_row11_col5\" class=\"data row11 col5\" >NaT</td>\n",
       "      <td id=\"T_eba5d_row11_col6\" class=\"data row11 col6\" >NaT</td>\n",
       "      <td id=\"T_eba5d_row11_col7\" class=\"data row11 col7\" >NaT</td>\n",
       "      <td id=\"T_eba5d_row11_col8\" class=\"data row11 col8\" >NaT</td>\n",
       "      <td id=\"T_eba5d_row11_col9\" class=\"data row11 col9\" >NaT</td>\n",
       "      <td id=\"T_eba5d_row11_col10\" class=\"data row11 col10\" >NaT</td>\n",
       "      <td id=\"T_eba5d_row11_col11\" class=\"data row11 col11\" >NaT</td>\n",
       "      <td id=\"T_eba5d_row11_col12\" class=\"data row11 col12\" >NaT</td>\n",
       "      <td id=\"T_eba5d_row11_col13\" class=\"data row11 col13\" >NaT</td>\n",
       "    </tr>\n",
       "    <tr>\n",
       "      <td id=\"T_eba5d_row12_col0\" class=\"data row12 col0\" >Albert Mir</td>\n",
       "      <td id=\"T_eba5d_row12_col1\" class=\"data row12 col1\" >0</td>\n",
       "      <td id=\"T_eba5d_row12_col2\" class=\"data row12 col2\" >0</td>\n",
       "      <td id=\"T_eba5d_row12_col3\" class=\"data row12 col3\" >NaT</td>\n",
       "      <td id=\"T_eba5d_row12_col4\" class=\"data row12 col4\" >NaT</td>\n",
       "      <td id=\"T_eba5d_row12_col5\" class=\"data row12 col5\" >NaT</td>\n",
       "      <td id=\"T_eba5d_row12_col6\" class=\"data row12 col6\" >NaT</td>\n",
       "      <td id=\"T_eba5d_row12_col7\" class=\"data row12 col7\" >NaT</td>\n",
       "      <td id=\"T_eba5d_row12_col8\" class=\"data row12 col8\" >NaT</td>\n",
       "      <td id=\"T_eba5d_row12_col9\" class=\"data row12 col9\" >NaT</td>\n",
       "      <td id=\"T_eba5d_row12_col10\" class=\"data row12 col10\" >NaT</td>\n",
       "      <td id=\"T_eba5d_row12_col11\" class=\"data row12 col11\" >NaT</td>\n",
       "      <td id=\"T_eba5d_row12_col12\" class=\"data row12 col12\" >NaT</td>\n",
       "      <td id=\"T_eba5d_row12_col13\" class=\"data row12 col13\" >NaT</td>\n",
       "    </tr>\n",
       "    <tr>\n",
       "      <td id=\"T_eba5d_row13_col0\" class=\"data row13 col0\" >t1emp0</td>\n",
       "      <td id=\"T_eba5d_row13_col1\" class=\"data row13 col1\" >0</td>\n",
       "      <td id=\"T_eba5d_row13_col2\" class=\"data row13 col2\" >0</td>\n",
       "      <td id=\"T_eba5d_row13_col3\" class=\"data row13 col3\" >NaT</td>\n",
       "      <td id=\"T_eba5d_row13_col4\" class=\"data row13 col4\" >NaT</td>\n",
       "      <td id=\"T_eba5d_row13_col5\" class=\"data row13 col5\" >NaT</td>\n",
       "      <td id=\"T_eba5d_row13_col6\" class=\"data row13 col6\" >NaT</td>\n",
       "      <td id=\"T_eba5d_row13_col7\" class=\"data row13 col7\" >NaT</td>\n",
       "      <td id=\"T_eba5d_row13_col8\" class=\"data row13 col8\" >NaT</td>\n",
       "      <td id=\"T_eba5d_row13_col9\" class=\"data row13 col9\" >NaT</td>\n",
       "      <td id=\"T_eba5d_row13_col10\" class=\"data row13 col10\" >NaT</td>\n",
       "      <td id=\"T_eba5d_row13_col11\" class=\"data row13 col11\" >NaT</td>\n",
       "      <td id=\"T_eba5d_row13_col12\" class=\"data row13 col12\" >NaT</td>\n",
       "      <td id=\"T_eba5d_row13_col13\" class=\"data row13 col13\" >NaT</td>\n",
       "    </tr>\n",
       "  </tbody>\n",
       "</table>\n"
      ],
      "text/plain": [
       "<pandas.io.formats.style.Styler at 0x19022987c70>"
      ]
     },
     "execution_count": 2,
     "metadata": {},
     "output_type": "execute_result"
    }
   ],
   "source": [
    "import pandas as pd\n",
    "\n",
    "df = pd.json_normalize(data['members'].values())\n",
    "df = df[['name', 'local_score', 'stars'] + list(sorted(df.columns[6:], key=lambda x: float(x[21:-12])))]\n",
    "df.columns = ['name', 'score' ,'stars'] + [col[21:-12] for col in df.columns[3:]]\n",
    "\n",
    "local_time = + 1 # CEST\n",
    "\n",
    "df['accumulated_time'] = pd.Timedelta(0)\n",
    "for i in range(3, df.shape[1]-1):\n",
    "    df[df.columns[i]] = pd.to_datetime(df[df.columns[i]], unit='s') + \\\n",
    "        pd.Timedelta(local_time, unit='H')\n",
    "    if i%2 == 0:\n",
    "        df[df.columns[i]] -= df[df.columns[i-1]]\n",
    "        df['accumulated_time'] += df[df.columns[i]]\n",
    "\n",
    "df = df.sort_values('score', ascending=False)\n",
    "\n",
    "def style_data(x):\n",
    "    if isinstance(x, pd.Timestamp):\n",
    "        return x.strftime('%H:%M:%S')\n",
    "    if isinstance(x, pd.Timedelta):\n",
    "        return str(x)[-8:]\n",
    "    return x\n",
    "\n",
    "df.style.format(style_data).hide_index()"
   ]
  },
  {
   "cell_type": "code",
   "execution_count": 3,
   "metadata": {
    "collapsed": false,
    "pycharm": {
     "name": "#%%\n"
    }
   },
   "outputs": [
    {
     "data": {
      "image/png": "[encoded data removed]",
      "text/plain": [
       "<Figure size 864x576 with 1 Axes>"
      ]
     },
     "metadata": {
      "needs_background": "light"
     },
     "output_type": "display_data"
    }
   ],
   "source": [
    "import matplotlib.pyplot as plt\n",
    "import seaborn as sns\n",
    "\n",
    "days = int(df.columns[-2].split('.')[0])\n",
    "\n",
    "times_data = []\n",
    "for idx, row in df.iterrows():\n",
    "    #if row['score'] >= 800:\n",
    "        for day in range(1, days+1):\n",
    "            date = row[f'{day}.1']\n",
    "            if not pd.isnull(date):\n",
    "                time = date.hour + date.minute/60 + date.second/3600\n",
    "                if time >= 6:\n",
    "                    times_data.append({'name': row['name'], 'day': day, 'time': time})\n",
    "\n",
    "times = pd.DataFrame(times_data)\n",
    "\n",
    "plt.figure(figsize=(12,8))\n",
    "\n",
    "ax = sns.lineplot(data=times, x='day', y='time', hue='name', marker='o')\n",
    "\n",
    "ax.set_yticks(range(6, 25))\n",
    "ax.set_xticks(range(1, days+1))\n",
    "\n",
    "_ = plt.legend(bbox_to_anchor=(1.05, 1), loc=2, borderaxespad=0)"
   ]
  },
  {
   "cell_type": "code",
   "execution_count": 4,
   "metadata": {},
   "outputs": [
    {
     "data": {
      "application/vnd.plotly.v1+json": {
       "config": {
        "plotlyServerURL": "https://plot.ly"
       },
       "data": [
        {
         "hovertemplate": "name=Arnau Q<br>day=%{x}<br>time=%{y}<extra></extra>",
         "legendgroup": "Arnau Q",
         "line": {
          "color": "#636efa",
          "dash": "solid"
         },
         "marker": {
          "symbol": "circle"
         },
         "mode": "lines+markers",
         "name": "Arnau Q",
         "orientation": "v",
         "showlegend": true,
         "type": "scatter",
         "x": [
          1,
          2,
          3,
          4,
          5
         ],
         "xaxis": "x",
         "y": [
          8.946666666666667,
          8.283888888888889,
          9.746944444444443,
          10.120000000000001,
          9.482222222222223
         ],
         "yaxis": "y"
        },
        {
         "hovertemplate": "name=Andreu Vall Hernàndez<br>day=%{x}<br>time=%{y}<extra></extra>",
         "legendgroup": "Andreu Vall Hernàndez",
         "line": {
          "color": "#EF553B",
          "dash": "solid"
         },
         "marker": {
          "symbol": "circle"
         },
         "mode": "lines+markers",
         "name": "Andreu Vall Hernàndez",
         "orientation": "v",
         "showlegend": true,
         "type": "scatter",
         "x": [
          1,
          2,
          3,
          4,
          5
         ],
         "xaxis": "x",
         "y": [
          8.408333333333333,
          9.188055555555556,
          12.554166666666667,
          10.028611111111111,
          11.297222222222222
         ],
         "yaxis": "y"
        },
        {
         "hovertemplate": "name=albertsalles4<br>day=%{x}<br>time=%{y}<extra></extra>",
         "legendgroup": "albertsalles4",
         "line": {
          "color": "#00cc96",
          "dash": "solid"
         },
         "marker": {
          "symbol": "circle"
         },
         "mode": "lines+markers",
         "name": "albertsalles4",
         "orientation": "v",
         "showlegend": true,
         "type": "scatter",
         "x": [
          1,
          2,
          3,
          4,
          5
         ],
         "xaxis": "x",
         "y": [
          10.368611111111111,
          9.363888888888889,
          10.169722222222221,
          11.904444444444445,
          10.436388888888889
         ],
         "yaxis": "y"
        },
        {
         "hovertemplate": "name=David Rial Figols<br>day=%{x}<br>time=%{y}<extra></extra>",
         "legendgroup": "David Rial Figols",
         "line": {
          "color": "#ab63fa",
          "dash": "solid"
         },
         "marker": {
          "symbol": "circle"
         },
         "mode": "lines+markers",
         "name": "David Rial Figols",
         "orientation": "v",
         "showlegend": true,
         "type": "scatter",
         "x": [
          1,
          2,
          3,
          4,
          5
         ],
         "xaxis": "x",
         "y": [
          10.608611111111111,
          9.525277777777779,
          7.153333333333333,
          16.982499999999998,
          11.422222222222222
         ],
         "yaxis": "y"
        },
        {
         "hovertemplate": "name=Antonio Tigri<br>day=%{x}<br>time=%{y}<extra></extra>",
         "legendgroup": "Antonio Tigri",
         "line": {
          "color": "#FFA15A",
          "dash": "solid"
         },
         "marker": {
          "symbol": "circle"
         },
         "mode": "lines+markers",
         "name": "Antonio Tigri",
         "orientation": "v",
         "showlegend": true,
         "type": "scatter",
         "x": [
          1,
          2,
          3,
          4
         ],
         "xaxis": "x",
         "y": [
          15.376666666666667,
          10.939166666666667,
          11.625555555555556,
          12.465
         ],
         "yaxis": "y"
        },
        {
         "hovertemplate": "name=Arnau Martínez Tomàs<br>day=%{x}<br>time=%{y}<extra></extra>",
         "legendgroup": "Arnau Martínez Tomàs",
         "line": {
          "color": "#19d3f3",
          "dash": "solid"
         },
         "marker": {
          "symbol": "circle"
         },
         "mode": "lines+markers",
         "name": "Arnau Martínez Tomàs",
         "orientation": "v",
         "showlegend": true,
         "type": "scatter",
         "x": [
          1,
          2,
          3,
          4
         ],
         "xaxis": "x",
         "y": [
          23.88722222222222,
          10.396944444444443,
          12.993333333333332,
          11.422222222222222
         ],
         "yaxis": "y"
        },
        {
         "hovertemplate": "name=sarabase<br>day=%{x}<br>time=%{y}<extra></extra>",
         "legendgroup": "sarabase",
         "line": {
          "color": "#FF6692",
          "dash": "solid"
         },
         "marker": {
          "symbol": "circle"
         },
         "mode": "lines+markers",
         "name": "sarabase",
         "orientation": "v",
         "showlegend": true,
         "type": "scatter",
         "x": [
          1,
          2,
          3,
          4
         ],
         "xaxis": "x",
         "y": [
          18.549444444444447,
          12.11111111111111,
          11.399444444444445,
          17.620555555555555
         ],
         "yaxis": "y"
        },
        {
         "hovertemplate": "name=EstherRH00<br>day=%{x}<br>time=%{y}<extra></extra>",
         "legendgroup": "EstherRH00",
         "line": {
          "color": "#B6E880",
          "dash": "solid"
         },
         "marker": {
          "symbol": "circle"
         },
         "mode": "lines+markers",
         "name": "EstherRH00",
         "orientation": "v",
         "showlegend": true,
         "type": "scatter",
         "x": [
          1,
          2,
          3,
          4
         ],
         "xaxis": "x",
         "y": [
          13.194444444444445,
          21.084166666666665,
          13.665277777777778,
          13.341111111111111
         ],
         "yaxis": "y"
        }
       ],
       "layout": {
        "legend": {
         "title": {
          "text": "name"
         },
         "tracegroupgap": 0
        },
        "margin": {
         "t": 60
        },
        "template": {
         "data": {
          "bar": [
           {
            "error_x": {
             "color": "#2a3f5f"
            },
            "error_y": {
             "color": "#2a3f5f"
            },
            "marker": {
             "line": {
              "color": "#E5ECF6",
              "width": 0.5
             },
             "pattern": {
              "fillmode": "overlay",
              "size": 10,
              "solidity": 0.2
             }
            },
            "type": "bar"
           }
          ],
          "barpolar": [
           {
            "marker": {
             "line": {
              "color": "#E5ECF6",
              "width": 0.5
             },
             "pattern": {
              "fillmode": "overlay",
              "size": 10,
              "solidity": 0.2
             }
            },
            "type": "barpolar"
           }
          ],
          "carpet": [
           {
            "aaxis": {
             "endlinecolor": "#2a3f5f",
             "gridcolor": "white",
             "linecolor": "white",
             "minorgridcolor": "white",
             "startlinecolor": "#2a3f5f"
            },
            "baxis": {
             "endlinecolor": "#2a3f5f",
             "gridcolor": "white",
             "linecolor": "white",
             "minorgridcolor": "white",
             "startlinecolor": "#2a3f5f"
            },
            "type": "carpet"
           }
          ],
          "choropleth": [
           {
            "colorbar": {
             "outlinewidth": 0,
             "ticks": ""
            },
            "type": "choropleth"
           }
          ],
          "contour": [
           {
            "colorbar": {
             "outlinewidth": 0,
             "ticks": ""
            },
            "colorscale": [
             [
              0,
              "#0d0887"
             ],
             [
              0.1111111111111111,
              "#46039f"
             ],
             [
              0.2222222222222222,
              "#7201a8"
             ],
             [
              0.3333333333333333,
              "#9c179e"
             ],
             [
              0.4444444444444444,
              "#bd3786"
             ],
             [
              0.5555555555555556,
              "#d8576b"
             ],
             [
              0.6666666666666666,
              "#ed7953"
             ],
             [
              0.7777777777777778,
              "#fb9f3a"
             ],
             [
              0.8888888888888888,
              "#fdca26"
             ],
             [
              1,
              "#f0f921"
             ]
            ],
            "type": "contour"
           }
          ],
          "contourcarpet": [
           {
            "colorbar": {
             "outlinewidth": 0,
             "ticks": ""
            },
            "type": "contourcarpet"
           }
          ],
          "heatmap": [
           {
            "colorbar": {
             "outlinewidth": 0,
             "ticks": ""
            },
            "colorscale": [
             [
              0,
              "#0d0887"
             ],
             [
              0.1111111111111111,
              "#46039f"
             ],
             [
              0.2222222222222222,
              "#7201a8"
             ],
             [
              0.3333333333333333,
              "#9c179e"
             ],
             [
              0.4444444444444444,
              "#bd3786"
             ],
             [
              0.5555555555555556,
              "#d8576b"
             ],
             [
              0.6666666666666666,
              "#ed7953"
             ],
             [
              0.7777777777777778,
              "#fb9f3a"
             ],
             [
              0.8888888888888888,
              "#fdca26"
             ],
             [
              1,
              "#f0f921"
             ]
            ],
            "type": "heatmap"
           }
          ],
          "heatmapgl": [
           {
            "colorbar": {
             "outlinewidth": 0,
             "ticks": ""
            },
            "colorscale": [
             [
              0,
              "#0d0887"
             ],
             [
              0.1111111111111111,
              "#46039f"
             ],
             [
              0.2222222222222222,
              "#7201a8"
             ],
             [
              0.3333333333333333,
              "#9c179e"
             ],
             [
              0.4444444444444444,
              "#bd3786"
             ],
             [
              0.5555555555555556,
              "#d8576b"
             ],
             [
              0.6666666666666666,
              "#ed7953"
             ],
             [
              0.7777777777777778,
              "#fb9f3a"
             ],
             [
              0.8888888888888888,
              "#fdca26"
             ],
             [
              1,
              "#f0f921"
             ]
            ],
            "type": "heatmapgl"
           }
          ],
          "histogram": [
           {
            "marker": {
             "pattern": {
              "fillmode": "overlay",
              "size": 10,
              "solidity": 0.2
             }
            },
            "type": "histogram"
           }
          ],
          "histogram2d": [
           {
            "colorbar": {
             "outlinewidth": 0,
             "ticks": ""
            },
            "colorscale": [
             [
              0,
              "#0d0887"
             ],
             [
              0.1111111111111111,
              "#46039f"
             ],
             [
              0.2222222222222222,
              "#7201a8"
             ],
             [
              0.3333333333333333,
              "#9c179e"
             ],
             [
              0.4444444444444444,
              "#bd3786"
             ],
             [
              0.5555555555555556,
              "#d8576b"
             ],
             [
              0.6666666666666666,
              "#ed7953"
             ],
             [
              0.7777777777777778,
              "#fb9f3a"
             ],
             [
              0.8888888888888888,
              "#fdca26"
             ],
             [
              1,
              "#f0f921"
             ]
            ],
            "type": "histogram2d"
           }
          ],
          "histogram2dcontour": [
           {
            "colorbar": {
             "outlinewidth": 0,
             "ticks": ""
            },
            "colorscale": [
             [
              0,
              "#0d0887"
             ],
             [
              0.1111111111111111,
              "#46039f"
             ],
             [
              0.2222222222222222,
              "#7201a8"
             ],
             [
              0.3333333333333333,
              "#9c179e"
             ],
             [
              0.4444444444444444,
              "#bd3786"
             ],
             [
              0.5555555555555556,
              "#d8576b"
             ],
             [
              0.6666666666666666,
              "#ed7953"
             ],
             [
              0.7777777777777778,
              "#fb9f3a"
             ],
             [
              0.8888888888888888,
              "#fdca26"
             ],
             [
              1,
              "#f0f921"
             ]
            ],
            "type": "histogram2dcontour"
           }
          ],
          "mesh3d": [
           {
            "colorbar": {
             "outlinewidth": 0,
             "ticks": ""
            },
            "type": "mesh3d"
           }
          ],
          "parcoords": [
           {
            "line": {
             "colorbar": {
              "outlinewidth": 0,
              "ticks": ""
             }
            },
            "type": "parcoords"
           }
          ],
          "pie": [
           {
            "automargin": true,
            "type": "pie"
           }
          ],
          "scatter": [
           {
            "marker": {
             "colorbar": {
              "outlinewidth": 0,
              "ticks": ""
             }
            },
            "type": "scatter"
           }
          ],
          "scatter3d": [
           {
            "line": {
             "colorbar": {
              "outlinewidth": 0,
              "ticks": ""
             }
            },
            "marker": {
             "colorbar": {
              "outlinewidth": 0,
              "ticks": ""
             }
            },
            "type": "scatter3d"
           }
          ],
          "scattercarpet": [
           {
            "marker": {
             "colorbar": {
              "outlinewidth": 0,
              "ticks": ""
             }
            },
            "type": "scattercarpet"
           }
          ],
          "scattergeo": [
           {
            "marker": {
             "colorbar": {
              "outlinewidth": 0,
              "ticks": ""
             }
            },
            "type": "scattergeo"
           }
          ],
          "scattergl": [
           {
            "marker": {
             "colorbar": {
              "outlinewidth": 0,
              "ticks": ""
             }
            },
            "type": "scattergl"
           }
          ],
          "scattermapbox": [
           {
            "marker": {
             "colorbar": {
              "outlinewidth": 0,
              "ticks": ""
             }
            },
            "type": "scattermapbox"
           }
          ],
          "scatterpolar": [
           {
            "marker": {
             "colorbar": {
              "outlinewidth": 0,
              "ticks": ""
             }
            },
            "type": "scatterpolar"
           }
          ],
          "scatterpolargl": [
           {
            "marker": {
             "colorbar": {
              "outlinewidth": 0,
              "ticks": ""
             }
            },
            "type": "scatterpolargl"
           }
          ],
          "scatterternary": [
           {
            "marker": {
             "colorbar": {
              "outlinewidth": 0,
              "ticks": ""
             }
            },
            "type": "scatterternary"
           }
          ],
          "surface": [
           {
            "colorbar": {
             "outlinewidth": 0,
             "ticks": ""
            },
            "colorscale": [
             [
              0,
              "#0d0887"
             ],
             [
              0.1111111111111111,
              "#46039f"
             ],
             [
              0.2222222222222222,
              "#7201a8"
             ],
             [
              0.3333333333333333,
              "#9c179e"
             ],
             [
              0.4444444444444444,
              "#bd3786"
             ],
             [
              0.5555555555555556,
              "#d8576b"
             ],
             [
              0.6666666666666666,
              "#ed7953"
             ],
             [
              0.7777777777777778,
              "#fb9f3a"
             ],
             [
              0.8888888888888888,
              "#fdca26"
             ],
             [
              1,
              "#f0f921"
             ]
            ],
            "type": "surface"
           }
          ],
          "table": [
           {
            "cells": {
             "fill": {
              "color": "#EBF0F8"
             },
             "line": {
              "color": "white"
             }
            },
            "header": {
             "fill": {
              "color": "#C8D4E3"
             },
             "line": {
              "color": "white"
             }
            },
            "type": "table"
           }
          ]
         },
         "layout": {
          "annotationdefaults": {
           "arrowcolor": "#2a3f5f",
           "arrowhead": 0,
           "arrowwidth": 1
          },
          "autotypenumbers": "strict",
          "coloraxis": {
           "colorbar": {
            "outlinewidth": 0,
            "ticks": ""
           }
          },
          "colorscale": {
           "diverging": [
            [
             0,
             "#8e0152"
            ],
            [
             0.1,
             "#c51b7d"
            ],
            [
             0.2,
             "#de77ae"
            ],
            [
             0.3,
             "#f1b6da"
            ],
            [
             0.4,
             "#fde0ef"
            ],
            [
             0.5,
             "#f7f7f7"
            ],
            [
             0.6,
             "#e6f5d0"
            ],
            [
             0.7,
             "#b8e186"
            ],
            [
             0.8,
             "#7fbc41"
            ],
            [
             0.9,
             "#4d9221"
            ],
            [
             1,
             "#276419"
            ]
           ],
           "sequential": [
            [
             0,
             "#0d0887"
            ],
            [
             0.1111111111111111,
             "#46039f"
            ],
            [
             0.2222222222222222,
             "#7201a8"
            ],
            [
             0.3333333333333333,
             "#9c179e"
            ],
            [
             0.4444444444444444,
             "#bd3786"
            ],
            [
             0.5555555555555556,
             "#d8576b"
            ],
            [
             0.6666666666666666,
             "#ed7953"
            ],
            [
             0.7777777777777778,
             "#fb9f3a"
            ],
            [
             0.8888888888888888,
             "#fdca26"
            ],
            [
             1,
             "#f0f921"
            ]
           ],
           "sequentialminus": [
            [
             0,
             "#0d0887"
            ],
            [
             0.1111111111111111,
             "#46039f"
            ],
            [
             0.2222222222222222,
             "#7201a8"
            ],
            [
             0.3333333333333333,
             "#9c179e"
            ],
            [
             0.4444444444444444,
             "#bd3786"
            ],
            [
             0.5555555555555556,
             "#d8576b"
            ],
            [
             0.6666666666666666,
             "#ed7953"
            ],
            [
             0.7777777777777778,
             "#fb9f3a"
            ],
            [
             0.8888888888888888,
             "#fdca26"
            ],
            [
             1,
             "#f0f921"
            ]
           ]
          },
          "colorway": [
           "#636efa",
           "#EF553B",
           "#00cc96",
           "#ab63fa",
           "#FFA15A",
           "#19d3f3",
           "#FF6692",
           "#B6E880",
           "#FF97FF",
           "#FECB52"
          ],
          "font": {
           "color": "#2a3f5f"
          },
          "geo": {
           "bgcolor": "white",
           "lakecolor": "white",
           "landcolor": "#E5ECF6",
           "showlakes": true,
           "showland": true,
           "subunitcolor": "white"
          },
          "hoverlabel": {
           "align": "left"
          },
          "hovermode": "closest",
          "mapbox": {
           "style": "light"
          },
          "paper_bgcolor": "white",
          "plot_bgcolor": "#E5ECF6",
          "polar": {
           "angularaxis": {
            "gridcolor": "white",
            "linecolor": "white",
            "ticks": ""
           },
           "bgcolor": "#E5ECF6",
           "radialaxis": {
            "gridcolor": "white",
            "linecolor": "white",
            "ticks": ""
           }
          },
          "scene": {
           "xaxis": {
            "backgroundcolor": "#E5ECF6",
            "gridcolor": "white",
            "gridwidth": 2,
            "linecolor": "white",
            "showbackground": true,
            "ticks": "",
            "zerolinecolor": "white"
           },
           "yaxis": {
            "backgroundcolor": "#E5ECF6",
            "gridcolor": "white",
            "gridwidth": 2,
            "linecolor": "white",
            "showbackground": true,
            "ticks": "",
            "zerolinecolor": "white"
           },
           "zaxis": {
            "backgroundcolor": "#E5ECF6",
            "gridcolor": "white",
            "gridwidth": 2,
            "linecolor": "white",
            "showbackground": true,
            "ticks": "",
            "zerolinecolor": "white"
           }
          },
          "shapedefaults": {
           "line": {
            "color": "#2a3f5f"
           }
          },
          "ternary": {
           "aaxis": {
            "gridcolor": "white",
            "linecolor": "white",
            "ticks": ""
           },
           "baxis": {
            "gridcolor": "white",
            "linecolor": "white",
            "ticks": ""
           },
           "bgcolor": "#E5ECF6",
           "caxis": {
            "gridcolor": "white",
            "linecolor": "white",
            "ticks": ""
           }
          },
          "title": {
           "x": 0.05
          },
          "xaxis": {
           "automargin": true,
           "gridcolor": "white",
           "linecolor": "white",
           "ticks": "",
           "title": {
            "standoff": 15
           },
           "zerolinecolor": "white",
           "zerolinewidth": 2
          },
          "yaxis": {
           "automargin": true,
           "gridcolor": "white",
           "linecolor": "white",
           "ticks": "",
           "title": {
            "standoff": 15
           },
           "zerolinecolor": "white",
           "zerolinewidth": 2
          }
         }
        },
        "width": 800,
        "xaxis": {
         "anchor": "y",
         "domain": [
          0,
          1
         ],
         "dtick": 1,
         "title": {
          "text": "day"
         }
        },
        "yaxis": {
         "anchor": "x",
         "domain": [
          0,
          1
         ],
         "dtick": 2,
         "title": {
          "text": "time"
         }
        }
       }
      }
     },
     "metadata": {},
     "output_type": "display_data"
    },
    {
     "data": {
      "text/plain": [
       "<Figure size 288x288 with 0 Axes>"
      ]
     },
     "metadata": {},
     "output_type": "display_data"
    }
   ],
   "source": [
    "import plotly.express as px\n",
    "\n",
    "plt.figure(figsize=(4,4))\n",
    "\n",
    "fig = px.line(times, x='day', y='time', line_group='name', color='name', markers=True, width=800)\n",
    "fig.update_yaxes(dtick=2)\n",
    "fig.update_xaxes(dtick=1)\n",
    "\n",
    "fig.show()"
   ]
  },
  {
   "cell_type": "code",
   "execution_count": null,
   "metadata": {},
   "outputs": [],
   "source": []
  }
 ],
 "metadata": {
  "kernelspec": {
   "display_name": "Python 3",
   "language": "python",
   "name": "python3"
  },
  "language_info": {
   "codemirror_mode": {
    "name": "ipython",
    "version": 3
   },
   "file_extension": ".py",
   "mimetype": "text/x-python",
   "name": "python",
   "nbconvert_exporter": "python",
   "pygments_lexer": "ipython3",
   "version": "3.9.5"
  }
 },
 "nbformat": 4,
 "nbformat_minor": 0
}
