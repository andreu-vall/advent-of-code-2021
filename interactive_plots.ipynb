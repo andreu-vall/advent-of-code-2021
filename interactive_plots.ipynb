{
 "cells": [
  {
   "cell_type": "code",
   "execution_count": 1,
   "metadata": {},
   "outputs": [],
   "source": [
    "import requests\n",
    "import utils\n",
    "\n",
    "year = 2021  # 2020 and 2021 available\n",
    "\n",
    "user_id = {2021: 1075819, 2020: 1066392}\n",
    "url = f'https://adventofcode.com/{year}/leaderboard/private/view/{user_id[year]}.json'\n",
    "\n",
    "request = requests.get(url, cookies=utils.get_cookies())\n",
    "data = request.json()"
   ]
  },
  {
   "cell_type": "code",
   "execution_count": 2,
   "metadata": {},
   "outputs": [
    {
     "data": {
      "text/html": [
       "<style type=\"text/css\">\n",
       "</style>\n",
       "<table id=\"T_a0d68_\">\n",
       "  <thead>\n",
       "    <tr>\n",
       "      <th class=\"col_heading level0 col0\" >name</th>\n",
       "      <th class=\"col_heading level0 col1\" >score</th>\n",
       "      <th class=\"col_heading level0 col2\" >stars</th>\n",
       "      <th class=\"col_heading level0 col3\" >1.1</th>\n",
       "      <th class=\"col_heading level0 col4\" >1.2</th>\n",
       "      <th class=\"col_heading level0 col5\" >2.1</th>\n",
       "      <th class=\"col_heading level0 col6\" >2.2</th>\n",
       "      <th class=\"col_heading level0 col7\" >3.1</th>\n",
       "      <th class=\"col_heading level0 col8\" >3.2</th>\n",
       "      <th class=\"col_heading level0 col9\" >4.1</th>\n",
       "      <th class=\"col_heading level0 col10\" >4.2</th>\n",
       "      <th class=\"col_heading level0 col11\" >5.1</th>\n",
       "      <th class=\"col_heading level0 col12\" >5.2</th>\n",
       "      <th class=\"col_heading level0 col13\" >accumulated_time</th>\n",
       "    </tr>\n",
       "  </thead>\n",
       "  <tbody>\n",
       "    <tr>\n",
       "      <td id=\"T_a0d68_row0_col0\" class=\"data row0 col0\" >Arnau Q</td>\n",
       "      <td id=\"T_a0d68_row0_col1\" class=\"data row0 col1\" >134</td>\n",
       "      <td id=\"T_a0d68_row0_col2\" class=\"data row0 col2\" >10</td>\n",
       "      <td id=\"T_a0d68_row0_col3\" class=\"data row0 col3\" >08:56:48</td>\n",
       "      <td id=\"T_a0d68_row0_col4\" class=\"data row0 col4\" >02:38</td>\n",
       "      <td id=\"T_a0d68_row0_col5\" class=\"data row0 col5\" >08:17:02</td>\n",
       "      <td id=\"T_a0d68_row0_col6\" class=\"data row0 col6\" >03:07</td>\n",
       "      <td id=\"T_a0d68_row0_col7\" class=\"data row0 col7\" >09:44:49</td>\n",
       "      <td id=\"T_a0d68_row0_col8\" class=\"data row0 col8\" >30:14</td>\n",
       "      <td id=\"T_a0d68_row0_col9\" class=\"data row0 col9\" >10:07:12</td>\n",
       "      <td id=\"T_a0d68_row0_col10\" class=\"data row0 col10\" >11:57</td>\n",
       "      <td id=\"T_a0d68_row0_col11\" class=\"data row0 col11\" >09:28:56</td>\n",
       "      <td id=\"T_a0d68_row0_col12\" class=\"data row0 col12\" >20:05</td>\n",
       "      <td id=\"T_a0d68_row0_col13\" class=\"data row0 col13\" >01:08:01</td>\n",
       "    </tr>\n",
       "    <tr>\n",
       "      <td id=\"T_a0d68_row1_col0\" class=\"data row1 col0\" >Andreu Vall Hernàndez</td>\n",
       "      <td id=\"T_a0d68_row1_col1\" class=\"data row1 col1\" >124</td>\n",
       "      <td id=\"T_a0d68_row1_col2\" class=\"data row1 col2\" >10</td>\n",
       "      <td id=\"T_a0d68_row1_col3\" class=\"data row1 col3\" >08:24:30</td>\n",
       "      <td id=\"T_a0d68_row1_col4\" class=\"data row1 col4\" >07:44</td>\n",
       "      <td id=\"T_a0d68_row1_col5\" class=\"data row1 col5\" >09:11:17</td>\n",
       "      <td id=\"T_a0d68_row1_col6\" class=\"data row1 col6\" >02:02</td>\n",
       "      <td id=\"T_a0d68_row1_col7\" class=\"data row1 col7\" >12:33:15</td>\n",
       "      <td id=\"T_a0d68_row1_col8\" class=\"data row1 col8\" >27:39</td>\n",
       "      <td id=\"T_a0d68_row1_col9\" class=\"data row1 col9\" >10:01:43</td>\n",
       "      <td id=\"T_a0d68_row1_col10\" class=\"data row1 col10\" >09:16</td>\n",
       "      <td id=\"T_a0d68_row1_col11\" class=\"data row1 col11\" >11:17:50</td>\n",
       "      <td id=\"T_a0d68_row1_col12\" class=\"data row1 col12\" >08:50</td>\n",
       "      <td id=\"T_a0d68_row1_col13\" class=\"data row1 col13\" >55:31</td>\n",
       "    </tr>\n",
       "    <tr>\n",
       "      <td id=\"T_a0d68_row2_col0\" class=\"data row2 col0\" >albertsalles4</td>\n",
       "      <td id=\"T_a0d68_row2_col1\" class=\"data row2 col1\" >120</td>\n",
       "      <td id=\"T_a0d68_row2_col2\" class=\"data row2 col2\" >10</td>\n",
       "      <td id=\"T_a0d68_row2_col3\" class=\"data row2 col3\" >10:22:07</td>\n",
       "      <td id=\"T_a0d68_row2_col4\" class=\"data row2 col4\" >08:49</td>\n",
       "      <td id=\"T_a0d68_row2_col5\" class=\"data row2 col5\" >09:21:50</td>\n",
       "      <td id=\"T_a0d68_row2_col6\" class=\"data row2 col6\" >02:31</td>\n",
       "      <td id=\"T_a0d68_row2_col7\" class=\"data row2 col7\" >10:10:11</td>\n",
       "      <td id=\"T_a0d68_row2_col8\" class=\"data row2 col8\" >15:24</td>\n",
       "      <td id=\"T_a0d68_row2_col9\" class=\"data row2 col9\" >11:54:16</td>\n",
       "      <td id=\"T_a0d68_row2_col10\" class=\"data row2 col10\" >12:10</td>\n",
       "      <td id=\"T_a0d68_row2_col11\" class=\"data row2 col11\" >10:26:11</td>\n",
       "      <td id=\"T_a0d68_row2_col12\" class=\"data row2 col12\" >09:42</td>\n",
       "      <td id=\"T_a0d68_row2_col13\" class=\"data row2 col13\" >48:36</td>\n",
       "    </tr>\n",
       "    <tr>\n",
       "      <td id=\"T_a0d68_row3_col0\" class=\"data row3 col0\" >David Rial Figols</td>\n",
       "      <td id=\"T_a0d68_row3_col1\" class=\"data row3 col1\" >110</td>\n",
       "      <td id=\"T_a0d68_row3_col2\" class=\"data row3 col2\" >10</td>\n",
       "      <td id=\"T_a0d68_row3_col3\" class=\"data row3 col3\" >10:36:31</td>\n",
       "      <td id=\"T_a0d68_row3_col4\" class=\"data row3 col4\" >08:55</td>\n",
       "      <td id=\"T_a0d68_row3_col5\" class=\"data row3 col5\" >09:31:31</td>\n",
       "      <td id=\"T_a0d68_row3_col6\" class=\"data row3 col6\" >02:43</td>\n",
       "      <td id=\"T_a0d68_row3_col7\" class=\"data row3 col7\" >07:09:12</td>\n",
       "      <td id=\"T_a0d68_row3_col8\" class=\"data row3 col8\" >36:45</td>\n",
       "      <td id=\"T_a0d68_row3_col9\" class=\"data row3 col9\" >16:58:57</td>\n",
       "      <td id=\"T_a0d68_row3_col10\" class=\"data row3 col10\" >06:52</td>\n",
       "      <td id=\"T_a0d68_row3_col11\" class=\"data row3 col11\" >11:25:20</td>\n",
       "      <td id=\"T_a0d68_row3_col12\" class=\"data row3 col12\" >23:36</td>\n",
       "      <td id=\"T_a0d68_row3_col13\" class=\"data row3 col13\" >01:18:51</td>\n",
       "    </tr>\n",
       "    <tr>\n",
       "      <td id=\"T_a0d68_row4_col0\" class=\"data row4 col0\" >Arnau Martínez Tomàs</td>\n",
       "      <td id=\"T_a0d68_row4_col1\" class=\"data row4 col1\" >94</td>\n",
       "      <td id=\"T_a0d68_row4_col2\" class=\"data row4 col2\" >10</td>\n",
       "      <td id=\"T_a0d68_row4_col3\" class=\"data row4 col3\" >23:53:14</td>\n",
       "      <td id=\"T_a0d68_row4_col4\" class=\"data row4 col4\" >45:12</td>\n",
       "      <td id=\"T_a0d68_row4_col5\" class=\"data row4 col5\" >10:23:49</td>\n",
       "      <td id=\"T_a0d68_row4_col6\" class=\"data row4 col6\" >25:47</td>\n",
       "      <td id=\"T_a0d68_row4_col7\" class=\"data row4 col7\" >12:59:36</td>\n",
       "      <td id=\"T_a0d68_row4_col8\" class=\"data row4 col8\" >30:52</td>\n",
       "      <td id=\"T_a0d68_row4_col9\" class=\"data row4 col9\" >11:25:20</td>\n",
       "      <td id=\"T_a0d68_row4_col10\" class=\"data row4 col10\" >12:41</td>\n",
       "      <td id=\"T_a0d68_row4_col11\" class=\"data row4 col11\" >12:45:06</td>\n",
       "      <td id=\"T_a0d68_row4_col12\" class=\"data row4 col12\" >23:25</td>\n",
       "      <td id=\"T_a0d68_row4_col13\" class=\"data row4 col13\" >02:17:57</td>\n",
       "    </tr>\n",
       "    <tr>\n",
       "      <td id=\"T_a0d68_row5_col0\" class=\"data row5 col0\" >Antonio Tigri</td>\n",
       "      <td id=\"T_a0d68_row5_col1\" class=\"data row5 col1\" >93</td>\n",
       "      <td id=\"T_a0d68_row5_col2\" class=\"data row5 col2\" >10</td>\n",
       "      <td id=\"T_a0d68_row5_col3\" class=\"data row5 col3\" >15:22:36</td>\n",
       "      <td id=\"T_a0d68_row5_col4\" class=\"data row5 col4\" >12:46</td>\n",
       "      <td id=\"T_a0d68_row5_col5\" class=\"data row5 col5\" >10:56:21</td>\n",
       "      <td id=\"T_a0d68_row5_col6\" class=\"data row5 col6\" >03:52</td>\n",
       "      <td id=\"T_a0d68_row5_col7\" class=\"data row5 col7\" >11:37:32</td>\n",
       "      <td id=\"T_a0d68_row5_col8\" class=\"data row5 col8\" >34:25</td>\n",
       "      <td id=\"T_a0d68_row5_col9\" class=\"data row5 col9\" >12:27:54</td>\n",
       "      <td id=\"T_a0d68_row5_col10\" class=\"data row5 col10\" >17:41</td>\n",
       "      <td id=\"T_a0d68_row5_col11\" class=\"data row5 col11\" >13:36:21</td>\n",
       "      <td id=\"T_a0d68_row5_col12\" class=\"data row5 col12\" >23:21</td>\n",
       "      <td id=\"T_a0d68_row5_col13\" class=\"data row5 col13\" >01:32:05</td>\n",
       "    </tr>\n",
       "    <tr>\n",
       "      <td id=\"T_a0d68_row6_col0\" class=\"data row6 col0\" >EstherRH00</td>\n",
       "      <td id=\"T_a0d68_row6_col1\" class=\"data row6 col1\" >84</td>\n",
       "      <td id=\"T_a0d68_row6_col2\" class=\"data row6 col2\" >10</td>\n",
       "      <td id=\"T_a0d68_row6_col3\" class=\"data row6 col3\" >13:11:40</td>\n",
       "      <td id=\"T_a0d68_row6_col4\" class=\"data row6 col4\" >42:39</td>\n",
       "      <td id=\"T_a0d68_row6_col5\" class=\"data row6 col5\" >21:05:03</td>\n",
       "      <td id=\"T_a0d68_row6_col6\" class=\"data row6 col6\" >03:25</td>\n",
       "      <td id=\"T_a0d68_row6_col7\" class=\"data row6 col7\" >13:39:55</td>\n",
       "      <td id=\"T_a0d68_row6_col8\" class=\"data row6 col8\" >23:11</td>\n",
       "      <td id=\"T_a0d68_row6_col9\" class=\"data row6 col9\" >13:20:28</td>\n",
       "      <td id=\"T_a0d68_row6_col10\" class=\"data row6 col10\" >16:00</td>\n",
       "      <td id=\"T_a0d68_row6_col11\" class=\"data row6 col11\" >13:01:04</td>\n",
       "      <td id=\"T_a0d68_row6_col12\" class=\"data row6 col12\" >20:08</td>\n",
       "      <td id=\"T_a0d68_row6_col13\" class=\"data row6 col13\" >01:45:23</td>\n",
       "    </tr>\n",
       "    <tr>\n",
       "      <td id=\"T_a0d68_row7_col0\" class=\"data row7 col0\" >sarabase</td>\n",
       "      <td id=\"T_a0d68_row7_col1\" class=\"data row7 col1\" >67</td>\n",
       "      <td id=\"T_a0d68_row7_col2\" class=\"data row7 col2\" >8</td>\n",
       "      <td id=\"T_a0d68_row7_col3\" class=\"data row7 col3\" >18:32:58</td>\n",
       "      <td id=\"T_a0d68_row7_col4\" class=\"data row7 col4\" >18:29</td>\n",
       "      <td id=\"T_a0d68_row7_col5\" class=\"data row7 col5\" >12:06:40</td>\n",
       "      <td id=\"T_a0d68_row7_col6\" class=\"data row7 col6\" >03:32</td>\n",
       "      <td id=\"T_a0d68_row7_col7\" class=\"data row7 col7\" >11:23:58</td>\n",
       "      <td id=\"T_a0d68_row7_col8\" class=\"data row7 col8\" >55:36</td>\n",
       "      <td id=\"T_a0d68_row7_col9\" class=\"data row7 col9\" >17:37:14</td>\n",
       "      <td id=\"T_a0d68_row7_col10\" class=\"data row7 col10\" >06:45</td>\n",
       "      <td id=\"T_a0d68_row7_col11\" class=\"data row7 col11\" >NaT</td>\n",
       "      <td id=\"T_a0d68_row7_col12\" class=\"data row7 col12\" >NaT</td>\n",
       "      <td id=\"T_a0d68_row7_col13\" class=\"data row7 col13\" >NaT</td>\n",
       "    </tr>\n",
       "  </tbody>\n",
       "</table>\n"
      ],
      "text/plain": [
       "<pandas.io.formats.style.Styler at 0x22a96902c10>"
      ]
     },
     "execution_count": 2,
     "metadata": {},
     "output_type": "execute_result"
    }
   ],
   "source": [
    "import pandas as pd\n",
    "\n",
    "df = pd.json_normalize(data['members'].values())\n",
    "df = df[['name', 'local_score', 'stars'] + list(sorted(df.columns[6:], key=lambda x: float(x[21:-12])))]\n",
    "df.columns = ['name', 'score' ,'stars'] + [col[21:-12] for col in df.columns[3:]]\n",
    "\n",
    "local_time = + 1 # CEST\n",
    "\n",
    "acc_times = pd.DataFrame(data=df['name'])\n",
    "df['accumulated_time'] = pd.Timedelta(0)\n",
    "for i in range(3, df.shape[1]-1):\n",
    "    df[df.columns[i]] = pd.to_datetime(df[df.columns[i]], unit='s') + pd.Timedelta(local_time, unit='H')\n",
    "    if i%2 == 0:\n",
    "        df[df.columns[i]] -= df[df.columns[i-1]]\n",
    "        df['accumulated_time'] += df[df.columns[i]]\n",
    "        \n",
    "        day = df.columns[i].split('.')[0]\n",
    "        prev_day = str(int(day)-1)\n",
    "        acc_times[day] = df[df.columns[i]] if prev_day not in acc_times else acc_times[prev_day] + df[df.columns[i]]\n",
    "\n",
    "df = df.sort_values('score', ascending=False)\n",
    "\n",
    "def style_data(x):\n",
    "    if isinstance(x, pd.Timestamp):\n",
    "        return x.strftime('%H:%M:%S')\n",
    "    if isinstance(x, pd.Timedelta):\n",
    "        if x > pd.Timedelta(1, 'H'):\n",
    "            return str(x)[-8:]\n",
    "        else:\n",
    "            return str(x)[-5:]\n",
    "    return x\n",
    "\n",
    "df[df.stars>0].style.format(style_data).hide_index()"
   ]
  },
  {
   "cell_type": "code",
   "execution_count": 5,
   "metadata": {},
   "outputs": [
    {
     "data": {
      "application/vnd.plotly.v1+json": {
       "config": {
        "linkText": "Export to plot.ly",
        "plotlyServerURL": "https://plot.ly",
        "showLink": false
       },
       "data": [
        {
         "hovertemplate": "name=Arnau Q<br>day=%{x}<br>time=%{y}<extra></extra>",
         "legendgroup": "Arnau Q",
         "line": {
          "color": "#636efa",
          "dash": "solid"
         },
         "marker": {
          "symbol": "circle"
         },
         "mode": "markers+lines",
         "name": "Arnau Q",
         "orientation": "h",
         "showlegend": true,
         "type": "scatter",
         "x": [
          1,
          2,
          3,
          4,
          5
         ],
         "xaxis": "x",
         "y": [
          "2021-12-01T08:56:48",
          "2021-12-01T08:17:02",
          "2021-12-01T09:44:49",
          "2021-12-01T10:07:12",
          "2021-12-01T09:28:56"
         ],
         "yaxis": "y"
        },
        {
         "hovertemplate": "name=Andreu Vall Hernàndez<br>day=%{x}<br>time=%{y}<extra></extra>",
         "legendgroup": "Andreu Vall Hernàndez",
         "line": {
          "color": "#EF553B",
          "dash": "solid"
         },
         "marker": {
          "symbol": "circle"
         },
         "mode": "markers+lines",
         "name": "Andreu Vall Hernàndez",
         "orientation": "h",
         "showlegend": true,
         "type": "scatter",
         "x": [
          1,
          2,
          3,
          4,
          5
         ],
         "xaxis": "x",
         "y": [
          "2021-12-01T08:24:30",
          "2021-12-01T09:11:17",
          "2021-12-01T12:33:15",
          "2021-12-01T10:01:43",
          "2021-12-01T11:17:50"
         ],
         "yaxis": "y"
        },
        {
         "hovertemplate": "name=albertsalles4<br>day=%{x}<br>time=%{y}<extra></extra>",
         "legendgroup": "albertsalles4",
         "line": {
          "color": "#00cc96",
          "dash": "solid"
         },
         "marker": {
          "symbol": "circle"
         },
         "mode": "markers+lines",
         "name": "albertsalles4",
         "orientation": "h",
         "showlegend": true,
         "type": "scatter",
         "x": [
          1,
          2,
          3,
          4,
          5
         ],
         "xaxis": "x",
         "y": [
          "2021-12-01T10:22:07",
          "2021-12-01T09:21:50",
          "2021-12-01T10:10:11",
          "2021-12-01T11:54:16",
          "2021-12-01T10:26:11"
         ],
         "yaxis": "y"
        },
        {
         "hovertemplate": "name=David Rial Figols<br>day=%{x}<br>time=%{y}<extra></extra>",
         "legendgroup": "David Rial Figols",
         "line": {
          "color": "#ab63fa",
          "dash": "solid"
         },
         "marker": {
          "symbol": "circle"
         },
         "mode": "markers+lines",
         "name": "David Rial Figols",
         "orientation": "h",
         "showlegend": true,
         "type": "scatter",
         "x": [
          1,
          2,
          3,
          4,
          5
         ],
         "xaxis": "x",
         "y": [
          "2021-12-01T10:36:31",
          "2021-12-01T09:31:31",
          "2021-12-01T07:09:12",
          "2021-12-01T16:58:57",
          "2021-12-01T11:25:20"
         ],
         "yaxis": "y"
        },
        {
         "hovertemplate": "name=Arnau Martínez Tomàs<br>day=%{x}<br>time=%{y}<extra></extra>",
         "legendgroup": "Arnau Martínez Tomàs",
         "line": {
          "color": "#FFA15A",
          "dash": "solid"
         },
         "marker": {
          "symbol": "circle"
         },
         "mode": "markers+lines",
         "name": "Arnau Martínez Tomàs",
         "orientation": "h",
         "showlegend": true,
         "type": "scatter",
         "x": [
          1,
          2,
          3,
          4,
          5
         ],
         "xaxis": "x",
         "y": [
          "2021-12-01T23:53:14",
          "2021-12-01T10:23:49",
          "2021-12-01T12:59:36",
          "2021-12-01T11:25:20",
          "2021-12-01T12:45:06"
         ],
         "yaxis": "y"
        },
        {
         "hovertemplate": "name=Antonio Tigri<br>day=%{x}<br>time=%{y}<extra></extra>",
         "legendgroup": "Antonio Tigri",
         "line": {
          "color": "#19d3f3",
          "dash": "solid"
         },
         "marker": {
          "symbol": "circle"
         },
         "mode": "markers+lines",
         "name": "Antonio Tigri",
         "orientation": "h",
         "showlegend": true,
         "type": "scatter",
         "x": [
          1,
          2,
          3,
          4,
          5
         ],
         "xaxis": "x",
         "y": [
          "2021-12-01T15:22:36",
          "2021-12-01T10:56:21",
          "2021-12-01T11:37:32",
          "2021-12-01T12:27:54",
          "2021-12-01T13:36:21"
         ],
         "yaxis": "y"
        },
        {
         "hovertemplate": "name=EstherRH00<br>day=%{x}<br>time=%{y}<extra></extra>",
         "legendgroup": "EstherRH00",
         "line": {
          "color": "#FF6692",
          "dash": "solid"
         },
         "marker": {
          "symbol": "circle"
         },
         "mode": "markers+lines",
         "name": "EstherRH00",
         "orientation": "h",
         "showlegend": true,
         "type": "scatter",
         "x": [
          1,
          2,
          3,
          4,
          5
         ],
         "xaxis": "x",
         "y": [
          "2021-12-01T13:11:40",
          "2021-12-01T21:05:03",
          "2021-12-01T13:39:55",
          "2021-12-01T13:20:28",
          "2021-12-01T13:01:04"
         ],
         "yaxis": "y"
        },
        {
         "hovertemplate": "name=sarabase<br>day=%{x}<br>time=%{y}<extra></extra>",
         "legendgroup": "sarabase",
         "line": {
          "color": "#B6E880",
          "dash": "solid"
         },
         "marker": {
          "symbol": "circle"
         },
         "mode": "markers+lines",
         "name": "sarabase",
         "orientation": "h",
         "showlegend": true,
         "type": "scatter",
         "x": [
          1,
          2,
          3,
          4
         ],
         "xaxis": "x",
         "y": [
          "2021-12-01T18:32:58",
          "2021-12-01T12:06:40",
          "2021-12-01T11:23:58",
          "2021-12-01T17:37:14"
         ],
         "yaxis": "y"
        }
       ],
       "layout": {
        "legend": {
         "title": {
          "text": "name"
         },
         "tracegroupgap": 0
        },
        "template": {
         "data": {
          "bar": [
           {
            "error_x": {
             "color": "#2a3f5f"
            },
            "error_y": {
             "color": "#2a3f5f"
            },
            "marker": {
             "line": {
              "color": "#E5ECF6",
              "width": 0.5
             },
             "pattern": {
              "fillmode": "overlay",
              "size": 10,
              "solidity": 0.2
             }
            },
            "type": "bar"
           }
          ],
          "barpolar": [
           {
            "marker": {
             "line": {
              "color": "#E5ECF6",
              "width": 0.5
             },
             "pattern": {
              "fillmode": "overlay",
              "size": 10,
              "solidity": 0.2
             }
            },
            "type": "barpolar"
           }
          ],
          "carpet": [
           {
            "aaxis": {
             "endlinecolor": "#2a3f5f",
             "gridcolor": "white",
             "linecolor": "white",
             "minorgridcolor": "white",
             "startlinecolor": "#2a3f5f"
            },
            "baxis": {
             "endlinecolor": "#2a3f5f",
             "gridcolor": "white",
             "linecolor": "white",
             "minorgridcolor": "white",
             "startlinecolor": "#2a3f5f"
            },
            "type": "carpet"
           }
          ],
          "choropleth": [
           {
            "colorbar": {
             "outlinewidth": 0,
             "ticks": ""
            },
            "type": "choropleth"
           }
          ],
          "contour": [
           {
            "colorbar": {
             "outlinewidth": 0,
             "ticks": ""
            },
            "colorscale": [
             [
              0,
              "#0d0887"
             ],
             [
              0.1111111111111111,
              "#46039f"
             ],
             [
              0.2222222222222222,
              "#7201a8"
             ],
             [
              0.3333333333333333,
              "#9c179e"
             ],
             [
              0.4444444444444444,
              "#bd3786"
             ],
             [
              0.5555555555555556,
              "#d8576b"
             ],
             [
              0.6666666666666666,
              "#ed7953"
             ],
             [
              0.7777777777777778,
              "#fb9f3a"
             ],
             [
              0.8888888888888888,
              "#fdca26"
             ],
             [
              1,
              "#f0f921"
             ]
            ],
            "type": "contour"
           }
          ],
          "contourcarpet": [
           {
            "colorbar": {
             "outlinewidth": 0,
             "ticks": ""
            },
            "type": "contourcarpet"
           }
          ],
          "heatmap": [
           {
            "colorbar": {
             "outlinewidth": 0,
             "ticks": ""
            },
            "colorscale": [
             [
              0,
              "#0d0887"
             ],
             [
              0.1111111111111111,
              "#46039f"
             ],
             [
              0.2222222222222222,
              "#7201a8"
             ],
             [
              0.3333333333333333,
              "#9c179e"
             ],
             [
              0.4444444444444444,
              "#bd3786"
             ],
             [
              0.5555555555555556,
              "#d8576b"
             ],
             [
              0.6666666666666666,
              "#ed7953"
             ],
             [
              0.7777777777777778,
              "#fb9f3a"
             ],
             [
              0.8888888888888888,
              "#fdca26"
             ],
             [
              1,
              "#f0f921"
             ]
            ],
            "type": "heatmap"
           }
          ],
          "heatmapgl": [
           {
            "colorbar": {
             "outlinewidth": 0,
             "ticks": ""
            },
            "colorscale": [
             [
              0,
              "#0d0887"
             ],
             [
              0.1111111111111111,
              "#46039f"
             ],
             [
              0.2222222222222222,
              "#7201a8"
             ],
             [
              0.3333333333333333,
              "#9c179e"
             ],
             [
              0.4444444444444444,
              "#bd3786"
             ],
             [
              0.5555555555555556,
              "#d8576b"
             ],
             [
              0.6666666666666666,
              "#ed7953"
             ],
             [
              0.7777777777777778,
              "#fb9f3a"
             ],
             [
              0.8888888888888888,
              "#fdca26"
             ],
             [
              1,
              "#f0f921"
             ]
            ],
            "type": "heatmapgl"
           }
          ],
          "histogram": [
           {
            "marker": {
             "pattern": {
              "fillmode": "overlay",
              "size": 10,
              "solidity": 0.2
             }
            },
            "type": "histogram"
           }
          ],
          "histogram2d": [
           {
            "colorbar": {
             "outlinewidth": 0,
             "ticks": ""
            },
            "colorscale": [
             [
              0,
              "#0d0887"
             ],
             [
              0.1111111111111111,
              "#46039f"
             ],
             [
              0.2222222222222222,
              "#7201a8"
             ],
             [
              0.3333333333333333,
              "#9c179e"
             ],
             [
              0.4444444444444444,
              "#bd3786"
             ],
             [
              0.5555555555555556,
              "#d8576b"
             ],
             [
              0.6666666666666666,
              "#ed7953"
             ],
             [
              0.7777777777777778,
              "#fb9f3a"
             ],
             [
              0.8888888888888888,
              "#fdca26"
             ],
             [
              1,
              "#f0f921"
             ]
            ],
            "type": "histogram2d"
           }
          ],
          "histogram2dcontour": [
           {
            "colorbar": {
             "outlinewidth": 0,
             "ticks": ""
            },
            "colorscale": [
             [
              0,
              "#0d0887"
             ],
             [
              0.1111111111111111,
              "#46039f"
             ],
             [
              0.2222222222222222,
              "#7201a8"
             ],
             [
              0.3333333333333333,
              "#9c179e"
             ],
             [
              0.4444444444444444,
              "#bd3786"
             ],
             [
              0.5555555555555556,
              "#d8576b"
             ],
             [
              0.6666666666666666,
              "#ed7953"
             ],
             [
              0.7777777777777778,
              "#fb9f3a"
             ],
             [
              0.8888888888888888,
              "#fdca26"
             ],
             [
              1,
              "#f0f921"
             ]
            ],
            "type": "histogram2dcontour"
           }
          ],
          "mesh3d": [
           {
            "colorbar": {
             "outlinewidth": 0,
             "ticks": ""
            },
            "type": "mesh3d"
           }
          ],
          "parcoords": [
           {
            "line": {
             "colorbar": {
              "outlinewidth": 0,
              "ticks": ""
             }
            },
            "type": "parcoords"
           }
          ],
          "pie": [
           {
            "automargin": true,
            "type": "pie"
           }
          ],
          "scatter": [
           {
            "marker": {
             "colorbar": {
              "outlinewidth": 0,
              "ticks": ""
             }
            },
            "type": "scatter"
           }
          ],
          "scatter3d": [
           {
            "line": {
             "colorbar": {
              "outlinewidth": 0,
              "ticks": ""
             }
            },
            "marker": {
             "colorbar": {
              "outlinewidth": 0,
              "ticks": ""
             }
            },
            "type": "scatter3d"
           }
          ],
          "scattercarpet": [
           {
            "marker": {
             "colorbar": {
              "outlinewidth": 0,
              "ticks": ""
             }
            },
            "type": "scattercarpet"
           }
          ],
          "scattergeo": [
           {
            "marker": {
             "colorbar": {
              "outlinewidth": 0,
              "ticks": ""
             }
            },
            "type": "scattergeo"
           }
          ],
          "scattergl": [
           {
            "marker": {
             "colorbar": {
              "outlinewidth": 0,
              "ticks": ""
             }
            },
            "type": "scattergl"
           }
          ],
          "scattermapbox": [
           {
            "marker": {
             "colorbar": {
              "outlinewidth": 0,
              "ticks": ""
             }
            },
            "type": "scattermapbox"
           }
          ],
          "scatterpolar": [
           {
            "marker": {
             "colorbar": {
              "outlinewidth": 0,
              "ticks": ""
             }
            },
            "type": "scatterpolar"
           }
          ],
          "scatterpolargl": [
           {
            "marker": {
             "colorbar": {
              "outlinewidth": 0,
              "ticks": ""
             }
            },
            "type": "scatterpolargl"
           }
          ],
          "scatterternary": [
           {
            "marker": {
             "colorbar": {
              "outlinewidth": 0,
              "ticks": ""
             }
            },
            "type": "scatterternary"
           }
          ],
          "surface": [
           {
            "colorbar": {
             "outlinewidth": 0,
             "ticks": ""
            },
            "colorscale": [
             [
              0,
              "#0d0887"
             ],
             [
              0.1111111111111111,
              "#46039f"
             ],
             [
              0.2222222222222222,
              "#7201a8"
             ],
             [
              0.3333333333333333,
              "#9c179e"
             ],
             [
              0.4444444444444444,
              "#bd3786"
             ],
             [
              0.5555555555555556,
              "#d8576b"
             ],
             [
              0.6666666666666666,
              "#ed7953"
             ],
             [
              0.7777777777777778,
              "#fb9f3a"
             ],
             [
              0.8888888888888888,
              "#fdca26"
             ],
             [
              1,
              "#f0f921"
             ]
            ],
            "type": "surface"
           }
          ],
          "table": [
           {
            "cells": {
             "fill": {
              "color": "#EBF0F8"
             },
             "line": {
              "color": "white"
             }
            },
            "header": {
             "fill": {
              "color": "#C8D4E3"
             },
             "line": {
              "color": "white"
             }
            },
            "type": "table"
           }
          ]
         },
         "layout": {
          "annotationdefaults": {
           "arrowcolor": "#2a3f5f",
           "arrowhead": 0,
           "arrowwidth": 1
          },
          "autotypenumbers": "strict",
          "coloraxis": {
           "colorbar": {
            "outlinewidth": 0,
            "ticks": ""
           }
          },
          "colorscale": {
           "diverging": [
            [
             0,
             "#8e0152"
            ],
            [
             0.1,
             "#c51b7d"
            ],
            [
             0.2,
             "#de77ae"
            ],
            [
             0.3,
             "#f1b6da"
            ],
            [
             0.4,
             "#fde0ef"
            ],
            [
             0.5,
             "#f7f7f7"
            ],
            [
             0.6,
             "#e6f5d0"
            ],
            [
             0.7,
             "#b8e186"
            ],
            [
             0.8,
             "#7fbc41"
            ],
            [
             0.9,
             "#4d9221"
            ],
            [
             1,
             "#276419"
            ]
           ],
           "sequential": [
            [
             0,
             "#0d0887"
            ],
            [
             0.1111111111111111,
             "#46039f"
            ],
            [
             0.2222222222222222,
             "#7201a8"
            ],
            [
             0.3333333333333333,
             "#9c179e"
            ],
            [
             0.4444444444444444,
             "#bd3786"
            ],
            [
             0.5555555555555556,
             "#d8576b"
            ],
            [
             0.6666666666666666,
             "#ed7953"
            ],
            [
             0.7777777777777778,
             "#fb9f3a"
            ],
            [
             0.8888888888888888,
             "#fdca26"
            ],
            [
             1,
             "#f0f921"
            ]
           ],
           "sequentialminus": [
            [
             0,
             "#0d0887"
            ],
            [
             0.1111111111111111,
             "#46039f"
            ],
            [
             0.2222222222222222,
             "#7201a8"
            ],
            [
             0.3333333333333333,
             "#9c179e"
            ],
            [
             0.4444444444444444,
             "#bd3786"
            ],
            [
             0.5555555555555556,
             "#d8576b"
            ],
            [
             0.6666666666666666,
             "#ed7953"
            ],
            [
             0.7777777777777778,
             "#fb9f3a"
            ],
            [
             0.8888888888888888,
             "#fdca26"
            ],
            [
             1,
             "#f0f921"
            ]
           ]
          },
          "colorway": [
           "#636efa",
           "#EF553B",
           "#00cc96",
           "#ab63fa",
           "#FFA15A",
           "#19d3f3",
           "#FF6692",
           "#B6E880",
           "#FF97FF",
           "#FECB52"
          ],
          "font": {
           "color": "#2a3f5f"
          },
          "geo": {
           "bgcolor": "white",
           "lakecolor": "white",
           "landcolor": "#E5ECF6",
           "showlakes": true,
           "showland": true,
           "subunitcolor": "white"
          },
          "hoverlabel": {
           "align": "left"
          },
          "hovermode": "closest",
          "mapbox": {
           "style": "light"
          },
          "paper_bgcolor": "white",
          "plot_bgcolor": "#E5ECF6",
          "polar": {
           "angularaxis": {
            "gridcolor": "white",
            "linecolor": "white",
            "ticks": ""
           },
           "bgcolor": "#E5ECF6",
           "radialaxis": {
            "gridcolor": "white",
            "linecolor": "white",
            "ticks": ""
           }
          },
          "scene": {
           "xaxis": {
            "backgroundcolor": "#E5ECF6",
            "gridcolor": "white",
            "gridwidth": 2,
            "linecolor": "white",
            "showbackground": true,
            "ticks": "",
            "zerolinecolor": "white"
           },
           "yaxis": {
            "backgroundcolor": "#E5ECF6",
            "gridcolor": "white",
            "gridwidth": 2,
            "linecolor": "white",
            "showbackground": true,
            "ticks": "",
            "zerolinecolor": "white"
           },
           "zaxis": {
            "backgroundcolor": "#E5ECF6",
            "gridcolor": "white",
            "gridwidth": 2,
            "linecolor": "white",
            "showbackground": true,
            "ticks": "",
            "zerolinecolor": "white"
           }
          },
          "shapedefaults": {
           "line": {
            "color": "#2a3f5f"
           }
          },
          "ternary": {
           "aaxis": {
            "gridcolor": "white",
            "linecolor": "white",
            "ticks": ""
           },
           "baxis": {
            "gridcolor": "white",
            "linecolor": "white",
            "ticks": ""
           },
           "bgcolor": "#E5ECF6",
           "caxis": {
            "gridcolor": "white",
            "linecolor": "white",
            "ticks": ""
           }
          },
          "title": {
           "x": 0.05
          },
          "xaxis": {
           "automargin": true,
           "gridcolor": "white",
           "linecolor": "white",
           "ticks": "",
           "title": {
            "standoff": 15
           },
           "zerolinecolor": "white",
           "zerolinewidth": 2
          },
          "yaxis": {
           "automargin": true,
           "gridcolor": "white",
           "linecolor": "white",
           "ticks": "",
           "title": {
            "standoff": 15
           },
           "zerolinecolor": "white",
           "zerolinewidth": 2
          }
         }
        },
        "title": {
         "text": "Hour when Part One Solved"
        },
        "xaxis": {
         "anchor": "y",
         "domain": [
          0,
          1
         ],
         "dtick": 1,
         "title": {
          "text": "day"
         }
        },
        "yaxis": {
         "anchor": "x",
         "domain": [
          0,
          1
         ],
         "tickformat": "%H:%M",
         "title": {
          "text": "time"
         }
        }
       }
      }
     },
     "metadata": {},
     "output_type": "display_data"
    }
   ],
   "source": [
    "from datetime import datetime\n",
    "import plotly.offline as po\n",
    "import plotly.express as px\n",
    "\n",
    "n_days = int(df.columns[-2].split('.')[0])\n",
    "too_far = datetime.strptime(f'2/12/{year} 06', '%d/%m/%Y %H')\n",
    "\n",
    "times_data = []\n",
    "for _, row in df.iterrows():\n",
    "    for day in range(1, n_days+1):\n",
    "        date = row[f'{day}.1']\n",
    "        if not pd.isnull(date):\n",
    "            time = date-pd.Timedelta(day-1, unit='d')\n",
    "            if time < too_far:\n",
    "                times_data.append({'name': row['name'], 'day': day, 'time': time})\n",
    "\n",
    "times = pd.DataFrame(times_data)\n",
    "\n",
    "fig = px.line(times, x='day', y='time', line_group='name', color='name', markers=True, title='Hour when Part One Solved')\n",
    "fig.update_yaxes(tickformat='%H:%M')\n",
    "fig.update_xaxes(dtick=1)\n",
    "\n",
    "po.iplot(fig)"
   ]
  },
  {
   "cell_type": "code",
   "execution_count": 6,
   "metadata": {},
   "outputs": [
    {
     "data": {
      "application/vnd.plotly.v1+json": {
       "config": {
        "linkText": "Export to plot.ly",
        "plotlyServerURL": "https://plot.ly",
        "showLink": false
       },
       "data": [
        {
         "hovertemplate": "name=Arnau Q<br>day=%{x}<br>time=%{y}<extra></extra>",
         "legendgroup": "Arnau Q",
         "line": {
          "color": "#636efa",
          "dash": "solid"
         },
         "marker": {
          "symbol": "circle"
         },
         "mode": "markers+lines",
         "name": "Arnau Q",
         "orientation": "h",
         "showlegend": true,
         "type": "scatter",
         "x": [
          1,
          2,
          3,
          4,
          5
         ],
         "xaxis": "x",
         "y": [
          "2021-12-01T00:02:38",
          "2021-12-01T00:03:07",
          "2021-12-01T00:30:14",
          "2021-12-01T00:11:57",
          "2021-12-01T00:20:05"
         ],
         "yaxis": "y"
        },
        {
         "hovertemplate": "name=Andreu Vall Hernàndez<br>day=%{x}<br>time=%{y}<extra></extra>",
         "legendgroup": "Andreu Vall Hernàndez",
         "line": {
          "color": "#EF553B",
          "dash": "solid"
         },
         "marker": {
          "symbol": "circle"
         },
         "mode": "markers+lines",
         "name": "Andreu Vall Hernàndez",
         "orientation": "h",
         "showlegend": true,
         "type": "scatter",
         "x": [
          1,
          2,
          3,
          4,
          5
         ],
         "xaxis": "x",
         "y": [
          "2021-12-01T00:07:44",
          "2021-12-01T00:02:02",
          "2021-12-01T00:27:39",
          "2021-12-01T00:09:16",
          "2021-12-01T00:08:50"
         ],
         "yaxis": "y"
        },
        {
         "hovertemplate": "name=albertsalles4<br>day=%{x}<br>time=%{y}<extra></extra>",
         "legendgroup": "albertsalles4",
         "line": {
          "color": "#00cc96",
          "dash": "solid"
         },
         "marker": {
          "symbol": "circle"
         },
         "mode": "markers+lines",
         "name": "albertsalles4",
         "orientation": "h",
         "showlegend": true,
         "type": "scatter",
         "x": [
          1,
          2,
          3,
          4,
          5
         ],
         "xaxis": "x",
         "y": [
          "2021-12-01T00:08:49",
          "2021-12-01T00:02:31",
          "2021-12-01T00:15:24",
          "2021-12-01T00:12:10",
          "2021-12-01T00:09:42"
         ],
         "yaxis": "y"
        },
        {
         "hovertemplate": "name=David Rial Figols<br>day=%{x}<br>time=%{y}<extra></extra>",
         "legendgroup": "David Rial Figols",
         "line": {
          "color": "#ab63fa",
          "dash": "solid"
         },
         "marker": {
          "symbol": "circle"
         },
         "mode": "markers+lines",
         "name": "David Rial Figols",
         "orientation": "h",
         "showlegend": true,
         "type": "scatter",
         "x": [
          1,
          2,
          3,
          4,
          5
         ],
         "xaxis": "x",
         "y": [
          "2021-12-01T00:08:55",
          "2021-12-01T00:02:43",
          "2021-12-01T00:36:45",
          "2021-12-01T00:06:52",
          "2021-12-01T00:23:36"
         ],
         "yaxis": "y"
        },
        {
         "hovertemplate": "name=Arnau Martínez Tomàs<br>day=%{x}<br>time=%{y}<extra></extra>",
         "legendgroup": "Arnau Martínez Tomàs",
         "line": {
          "color": "#FFA15A",
          "dash": "solid"
         },
         "marker": {
          "symbol": "circle"
         },
         "mode": "markers+lines",
         "name": "Arnau Martínez Tomàs",
         "orientation": "h",
         "showlegend": true,
         "type": "scatter",
         "x": [
          1,
          2,
          3,
          4,
          5
         ],
         "xaxis": "x",
         "y": [
          "2021-12-01T00:45:12",
          "2021-12-01T00:25:47",
          "2021-12-01T00:30:52",
          "2021-12-01T00:12:41",
          "2021-12-01T00:23:25"
         ],
         "yaxis": "y"
        },
        {
         "hovertemplate": "name=Antonio Tigri<br>day=%{x}<br>time=%{y}<extra></extra>",
         "legendgroup": "Antonio Tigri",
         "line": {
          "color": "#19d3f3",
          "dash": "solid"
         },
         "marker": {
          "symbol": "circle"
         },
         "mode": "markers+lines",
         "name": "Antonio Tigri",
         "orientation": "h",
         "showlegend": true,
         "type": "scatter",
         "x": [
          1,
          2,
          3,
          4,
          5
         ],
         "xaxis": "x",
         "y": [
          "2021-12-01T00:12:46",
          "2021-12-01T00:03:52",
          "2021-12-01T00:34:25",
          "2021-12-01T00:17:41",
          "2021-12-01T00:23:21"
         ],
         "yaxis": "y"
        },
        {
         "hovertemplate": "name=EstherRH00<br>day=%{x}<br>time=%{y}<extra></extra>",
         "legendgroup": "EstherRH00",
         "line": {
          "color": "#FF6692",
          "dash": "solid"
         },
         "marker": {
          "symbol": "circle"
         },
         "mode": "markers+lines",
         "name": "EstherRH00",
         "orientation": "h",
         "showlegend": true,
         "type": "scatter",
         "x": [
          1,
          2,
          3,
          4,
          5
         ],
         "xaxis": "x",
         "y": [
          "2021-12-01T00:42:39",
          "2021-12-01T00:03:25",
          "2021-12-01T00:23:11",
          "2021-12-01T00:16:00",
          "2021-12-01T00:20:08"
         ],
         "yaxis": "y"
        },
        {
         "hovertemplate": "name=sarabase<br>day=%{x}<br>time=%{y}<extra></extra>",
         "legendgroup": "sarabase",
         "line": {
          "color": "#B6E880",
          "dash": "solid"
         },
         "marker": {
          "symbol": "circle"
         },
         "mode": "markers+lines",
         "name": "sarabase",
         "orientation": "h",
         "showlegend": true,
         "type": "scatter",
         "x": [
          1,
          2,
          3,
          4
         ],
         "xaxis": "x",
         "y": [
          "2021-12-01T00:18:29",
          "2021-12-01T00:03:32",
          "2021-12-01T00:55:36",
          "2021-12-01T00:06:45"
         ],
         "yaxis": "y"
        }
       ],
       "layout": {
        "legend": {
         "title": {
          "text": "name"
         },
         "tracegroupgap": 0
        },
        "template": {
         "data": {
          "bar": [
           {
            "error_x": {
             "color": "#2a3f5f"
            },
            "error_y": {
             "color": "#2a3f5f"
            },
            "marker": {
             "line": {
              "color": "#E5ECF6",
              "width": 0.5
             },
             "pattern": {
              "fillmode": "overlay",
              "size": 10,
              "solidity": 0.2
             }
            },
            "type": "bar"
           }
          ],
          "barpolar": [
           {
            "marker": {
             "line": {
              "color": "#E5ECF6",
              "width": 0.5
             },
             "pattern": {
              "fillmode": "overlay",
              "size": 10,
              "solidity": 0.2
             }
            },
            "type": "barpolar"
           }
          ],
          "carpet": [
           {
            "aaxis": {
             "endlinecolor": "#2a3f5f",
             "gridcolor": "white",
             "linecolor": "white",
             "minorgridcolor": "white",
             "startlinecolor": "#2a3f5f"
            },
            "baxis": {
             "endlinecolor": "#2a3f5f",
             "gridcolor": "white",
             "linecolor": "white",
             "minorgridcolor": "white",
             "startlinecolor": "#2a3f5f"
            },
            "type": "carpet"
           }
          ],
          "choropleth": [
           {
            "colorbar": {
             "outlinewidth": 0,
             "ticks": ""
            },
            "type": "choropleth"
           }
          ],
          "contour": [
           {
            "colorbar": {
             "outlinewidth": 0,
             "ticks": ""
            },
            "colorscale": [
             [
              0,
              "#0d0887"
             ],
             [
              0.1111111111111111,
              "#46039f"
             ],
             [
              0.2222222222222222,
              "#7201a8"
             ],
             [
              0.3333333333333333,
              "#9c179e"
             ],
             [
              0.4444444444444444,
              "#bd3786"
             ],
             [
              0.5555555555555556,
              "#d8576b"
             ],
             [
              0.6666666666666666,
              "#ed7953"
             ],
             [
              0.7777777777777778,
              "#fb9f3a"
             ],
             [
              0.8888888888888888,
              "#fdca26"
             ],
             [
              1,
              "#f0f921"
             ]
            ],
            "type": "contour"
           }
          ],
          "contourcarpet": [
           {
            "colorbar": {
             "outlinewidth": 0,
             "ticks": ""
            },
            "type": "contourcarpet"
           }
          ],
          "heatmap": [
           {
            "colorbar": {
             "outlinewidth": 0,
             "ticks": ""
            },
            "colorscale": [
             [
              0,
              "#0d0887"
             ],
             [
              0.1111111111111111,
              "#46039f"
             ],
             [
              0.2222222222222222,
              "#7201a8"
             ],
             [
              0.3333333333333333,
              "#9c179e"
             ],
             [
              0.4444444444444444,
              "#bd3786"
             ],
             [
              0.5555555555555556,
              "#d8576b"
             ],
             [
              0.6666666666666666,
              "#ed7953"
             ],
             [
              0.7777777777777778,
              "#fb9f3a"
             ],
             [
              0.8888888888888888,
              "#fdca26"
             ],
             [
              1,
              "#f0f921"
             ]
            ],
            "type": "heatmap"
           }
          ],
          "heatmapgl": [
           {
            "colorbar": {
             "outlinewidth": 0,
             "ticks": ""
            },
            "colorscale": [
             [
              0,
              "#0d0887"
             ],
             [
              0.1111111111111111,
              "#46039f"
             ],
             [
              0.2222222222222222,
              "#7201a8"
             ],
             [
              0.3333333333333333,
              "#9c179e"
             ],
             [
              0.4444444444444444,
              "#bd3786"
             ],
             [
              0.5555555555555556,
              "#d8576b"
             ],
             [
              0.6666666666666666,
              "#ed7953"
             ],
             [
              0.7777777777777778,
              "#fb9f3a"
             ],
             [
              0.8888888888888888,
              "#fdca26"
             ],
             [
              1,
              "#f0f921"
             ]
            ],
            "type": "heatmapgl"
           }
          ],
          "histogram": [
           {
            "marker": {
             "pattern": {
              "fillmode": "overlay",
              "size": 10,
              "solidity": 0.2
             }
            },
            "type": "histogram"
           }
          ],
          "histogram2d": [
           {
            "colorbar": {
             "outlinewidth": 0,
             "ticks": ""
            },
            "colorscale": [
             [
              0,
              "#0d0887"
             ],
             [
              0.1111111111111111,
              "#46039f"
             ],
             [
              0.2222222222222222,
              "#7201a8"
             ],
             [
              0.3333333333333333,
              "#9c179e"
             ],
             [
              0.4444444444444444,
              "#bd3786"
             ],
             [
              0.5555555555555556,
              "#d8576b"
             ],
             [
              0.6666666666666666,
              "#ed7953"
             ],
             [
              0.7777777777777778,
              "#fb9f3a"
             ],
             [
              0.8888888888888888,
              "#fdca26"
             ],
             [
              1,
              "#f0f921"
             ]
            ],
            "type": "histogram2d"
           }
          ],
          "histogram2dcontour": [
           {
            "colorbar": {
             "outlinewidth": 0,
             "ticks": ""
            },
            "colorscale": [
             [
              0,
              "#0d0887"
             ],
             [
              0.1111111111111111,
              "#46039f"
             ],
             [
              0.2222222222222222,
              "#7201a8"
             ],
             [
              0.3333333333333333,
              "#9c179e"
             ],
             [
              0.4444444444444444,
              "#bd3786"
             ],
             [
              0.5555555555555556,
              "#d8576b"
             ],
             [
              0.6666666666666666,
              "#ed7953"
             ],
             [
              0.7777777777777778,
              "#fb9f3a"
             ],
             [
              0.8888888888888888,
              "#fdca26"
             ],
             [
              1,
              "#f0f921"
             ]
            ],
            "type": "histogram2dcontour"
           }
          ],
          "mesh3d": [
           {
            "colorbar": {
             "outlinewidth": 0,
             "ticks": ""
            },
            "type": "mesh3d"
           }
          ],
          "parcoords": [
           {
            "line": {
             "colorbar": {
              "outlinewidth": 0,
              "ticks": ""
             }
            },
            "type": "parcoords"
           }
          ],
          "pie": [
           {
            "automargin": true,
            "type": "pie"
           }
          ],
          "scatter": [
           {
            "marker": {
             "colorbar": {
              "outlinewidth": 0,
              "ticks": ""
             }
            },
            "type": "scatter"
           }
          ],
          "scatter3d": [
           {
            "line": {
             "colorbar": {
              "outlinewidth": 0,
              "ticks": ""
             }
            },
            "marker": {
             "colorbar": {
              "outlinewidth": 0,
              "ticks": ""
             }
            },
            "type": "scatter3d"
           }
          ],
          "scattercarpet": [
           {
            "marker": {
             "colorbar": {
              "outlinewidth": 0,
              "ticks": ""
             }
            },
            "type": "scattercarpet"
           }
          ],
          "scattergeo": [
           {
            "marker": {
             "colorbar": {
              "outlinewidth": 0,
              "ticks": ""
             }
            },
            "type": "scattergeo"
           }
          ],
          "scattergl": [
           {
            "marker": {
             "colorbar": {
              "outlinewidth": 0,
              "ticks": ""
             }
            },
            "type": "scattergl"
           }
          ],
          "scattermapbox": [
           {
            "marker": {
             "colorbar": {
              "outlinewidth": 0,
              "ticks": ""
             }
            },
            "type": "scattermapbox"
           }
          ],
          "scatterpolar": [
           {
            "marker": {
             "colorbar": {
              "outlinewidth": 0,
              "ticks": ""
             }
            },
            "type": "scatterpolar"
           }
          ],
          "scatterpolargl": [
           {
            "marker": {
             "colorbar": {
              "outlinewidth": 0,
              "ticks": ""
             }
            },
            "type": "scatterpolargl"
           }
          ],
          "scatterternary": [
           {
            "marker": {
             "colorbar": {
              "outlinewidth": 0,
              "ticks": ""
             }
            },
            "type": "scatterternary"
           }
          ],
          "surface": [
           {
            "colorbar": {
             "outlinewidth": 0,
             "ticks": ""
            },
            "colorscale": [
             [
              0,
              "#0d0887"
             ],
             [
              0.1111111111111111,
              "#46039f"
             ],
             [
              0.2222222222222222,
              "#7201a8"
             ],
             [
              0.3333333333333333,
              "#9c179e"
             ],
             [
              0.4444444444444444,
              "#bd3786"
             ],
             [
              0.5555555555555556,
              "#d8576b"
             ],
             [
              0.6666666666666666,
              "#ed7953"
             ],
             [
              0.7777777777777778,
              "#fb9f3a"
             ],
             [
              0.8888888888888888,
              "#fdca26"
             ],
             [
              1,
              "#f0f921"
             ]
            ],
            "type": "surface"
           }
          ],
          "table": [
           {
            "cells": {
             "fill": {
              "color": "#EBF0F8"
             },
             "line": {
              "color": "white"
             }
            },
            "header": {
             "fill": {
              "color": "#C8D4E3"
             },
             "line": {
              "color": "white"
             }
            },
            "type": "table"
           }
          ]
         },
         "layout": {
          "annotationdefaults": {
           "arrowcolor": "#2a3f5f",
           "arrowhead": 0,
           "arrowwidth": 1
          },
          "autotypenumbers": "strict",
          "coloraxis": {
           "colorbar": {
            "outlinewidth": 0,
            "ticks": ""
           }
          },
          "colorscale": {
           "diverging": [
            [
             0,
             "#8e0152"
            ],
            [
             0.1,
             "#c51b7d"
            ],
            [
             0.2,
             "#de77ae"
            ],
            [
             0.3,
             "#f1b6da"
            ],
            [
             0.4,
             "#fde0ef"
            ],
            [
             0.5,
             "#f7f7f7"
            ],
            [
             0.6,
             "#e6f5d0"
            ],
            [
             0.7,
             "#b8e186"
            ],
            [
             0.8,
             "#7fbc41"
            ],
            [
             0.9,
             "#4d9221"
            ],
            [
             1,
             "#276419"
            ]
           ],
           "sequential": [
            [
             0,
             "#0d0887"
            ],
            [
             0.1111111111111111,
             "#46039f"
            ],
            [
             0.2222222222222222,
             "#7201a8"
            ],
            [
             0.3333333333333333,
             "#9c179e"
            ],
            [
             0.4444444444444444,
             "#bd3786"
            ],
            [
             0.5555555555555556,
             "#d8576b"
            ],
            [
             0.6666666666666666,
             "#ed7953"
            ],
            [
             0.7777777777777778,
             "#fb9f3a"
            ],
            [
             0.8888888888888888,
             "#fdca26"
            ],
            [
             1,
             "#f0f921"
            ]
           ],
           "sequentialminus": [
            [
             0,
             "#0d0887"
            ],
            [
             0.1111111111111111,
             "#46039f"
            ],
            [
             0.2222222222222222,
             "#7201a8"
            ],
            [
             0.3333333333333333,
             "#9c179e"
            ],
            [
             0.4444444444444444,
             "#bd3786"
            ],
            [
             0.5555555555555556,
             "#d8576b"
            ],
            [
             0.6666666666666666,
             "#ed7953"
            ],
            [
             0.7777777777777778,
             "#fb9f3a"
            ],
            [
             0.8888888888888888,
             "#fdca26"
            ],
            [
             1,
             "#f0f921"
            ]
           ]
          },
          "colorway": [
           "#636efa",
           "#EF553B",
           "#00cc96",
           "#ab63fa",
           "#FFA15A",
           "#19d3f3",
           "#FF6692",
           "#B6E880",
           "#FF97FF",
           "#FECB52"
          ],
          "font": {
           "color": "#2a3f5f"
          },
          "geo": {
           "bgcolor": "white",
           "lakecolor": "white",
           "landcolor": "#E5ECF6",
           "showlakes": true,
           "showland": true,
           "subunitcolor": "white"
          },
          "hoverlabel": {
           "align": "left"
          },
          "hovermode": "closest",
          "mapbox": {
           "style": "light"
          },
          "paper_bgcolor": "white",
          "plot_bgcolor": "#E5ECF6",
          "polar": {
           "angularaxis": {
            "gridcolor": "white",
            "linecolor": "white",
            "ticks": ""
           },
           "bgcolor": "#E5ECF6",
           "radialaxis": {
            "gridcolor": "white",
            "linecolor": "white",
            "ticks": ""
           }
          },
          "scene": {
           "xaxis": {
            "backgroundcolor": "#E5ECF6",
            "gridcolor": "white",
            "gridwidth": 2,
            "linecolor": "white",
            "showbackground": true,
            "ticks": "",
            "zerolinecolor": "white"
           },
           "yaxis": {
            "backgroundcolor": "#E5ECF6",
            "gridcolor": "white",
            "gridwidth": 2,
            "linecolor": "white",
            "showbackground": true,
            "ticks": "",
            "zerolinecolor": "white"
           },
           "zaxis": {
            "backgroundcolor": "#E5ECF6",
            "gridcolor": "white",
            "gridwidth": 2,
            "linecolor": "white",
            "showbackground": true,
            "ticks": "",
            "zerolinecolor": "white"
           }
          },
          "shapedefaults": {
           "line": {
            "color": "#2a3f5f"
           }
          },
          "ternary": {
           "aaxis": {
            "gridcolor": "white",
            "linecolor": "white",
            "ticks": ""
           },
           "baxis": {
            "gridcolor": "white",
            "linecolor": "white",
            "ticks": ""
           },
           "bgcolor": "#E5ECF6",
           "caxis": {
            "gridcolor": "white",
            "linecolor": "white",
            "ticks": ""
           }
          },
          "title": {
           "x": 0.05
          },
          "xaxis": {
           "automargin": true,
           "gridcolor": "white",
           "linecolor": "white",
           "ticks": "",
           "title": {
            "standoff": 15
           },
           "zerolinecolor": "white",
           "zerolinewidth": 2
          },
          "yaxis": {
           "automargin": true,
           "gridcolor": "white",
           "linecolor": "white",
           "ticks": "",
           "title": {
            "standoff": 15
           },
           "zerolinecolor": "white",
           "zerolinewidth": 2
          }
         }
        },
        "title": {
         "text": "Second Part Spent Time"
        },
        "xaxis": {
         "anchor": "y",
         "domain": [
          0,
          1
         ],
         "dtick": 1,
         "title": {
          "text": "day"
         }
        },
        "yaxis": {
         "anchor": "x",
         "domain": [
          0,
          1
         ],
         "tickformat": "%H:%M:%S",
         "title": {
          "text": "time"
         }
        }
       }
      }
     },
     "metadata": {},
     "output_type": "display_data"
    }
   ],
   "source": [
    "base = datetime.strptime('1/12/21', '%d/%m/%y')\n",
    "\n",
    "times_data = []\n",
    "for _, row in df.iterrows():\n",
    "    for day in range(1, n_days+1):\n",
    "        time = row[f'{day}.2']\n",
    "        if not pd.isnull(time):\n",
    "            times_data.append({'name': row['name'], 'day': day, 'time': time+base})\n",
    "\n",
    "times = pd.DataFrame(times_data)\n",
    "\n",
    "fig = px.line(times, x='day', y='time', line_group='name', color='name', markers=True, title='Second Part Spent Time')\n",
    "\n",
    "fig.update_yaxes(tickformat='%H:%M:%S')\n",
    "fig.update_xaxes(dtick=1)\n",
    "\n",
    "po.iplot(fig)"
   ]
  },
  {
   "cell_type": "code",
   "execution_count": 7,
   "metadata": {},
   "outputs": [
    {
     "data": {
      "application/vnd.plotly.v1+json": {
       "config": {
        "linkText": "Export to plot.ly",
        "plotlyServerURL": "https://plot.ly",
        "showLink": false
       },
       "data": [
        {
         "hovertemplate": "name=albertsalles4<br>day=%{x}<br>time=%{y}<extra></extra>",
         "legendgroup": "albertsalles4",
         "line": {
          "color": "#636efa",
          "dash": "solid"
         },
         "marker": {
          "symbol": "circle"
         },
         "mode": "markers+lines",
         "name": "albertsalles4",
         "orientation": "h",
         "showlegend": true,
         "type": "scatter",
         "x": [
          1,
          2,
          3,
          4,
          5
         ],
         "xaxis": "x",
         "y": [
          "2021-12-01T00:08:49",
          "2021-12-01T00:11:20",
          "2021-12-01T00:26:44",
          "2021-12-01T00:38:54",
          "2021-12-01T00:48:36"
         ],
         "yaxis": "y"
        },
        {
         "hovertemplate": "name=Andreu Vall Hernàndez<br>day=%{x}<br>time=%{y}<extra></extra>",
         "legendgroup": "Andreu Vall Hernàndez",
         "line": {
          "color": "#EF553B",
          "dash": "solid"
         },
         "marker": {
          "symbol": "circle"
         },
         "mode": "markers+lines",
         "name": "Andreu Vall Hernàndez",
         "orientation": "h",
         "showlegend": true,
         "type": "scatter",
         "x": [
          1,
          2,
          3,
          4,
          5
         ],
         "xaxis": "x",
         "y": [
          "2021-12-01T00:07:44",
          "2021-12-01T00:09:46",
          "2021-12-01T00:37:25",
          "2021-12-01T00:46:41",
          "2021-12-01T00:55:31"
         ],
         "yaxis": "y"
        },
        {
         "hovertemplate": "name=sarabase<br>day=%{x}<br>time=%{y}<extra></extra>",
         "legendgroup": "sarabase",
         "line": {
          "color": "#00cc96",
          "dash": "solid"
         },
         "marker": {
          "symbol": "circle"
         },
         "mode": "markers+lines",
         "name": "sarabase",
         "orientation": "h",
         "showlegend": true,
         "type": "scatter",
         "x": [
          1,
          2,
          3,
          4
         ],
         "xaxis": "x",
         "y": [
          "2021-12-01T00:18:29",
          "2021-12-01T00:22:01",
          "2021-12-01T01:17:37",
          "2021-12-01T01:24:22"
         ],
         "yaxis": "y"
        },
        {
         "hovertemplate": "name=EstherRH00<br>day=%{x}<br>time=%{y}<extra></extra>",
         "legendgroup": "EstherRH00",
         "line": {
          "color": "#ab63fa",
          "dash": "solid"
         },
         "marker": {
          "symbol": "circle"
         },
         "mode": "markers+lines",
         "name": "EstherRH00",
         "orientation": "h",
         "showlegend": true,
         "type": "scatter",
         "x": [
          1,
          2,
          3,
          4,
          5
         ],
         "xaxis": "x",
         "y": [
          "2021-12-01T00:42:39",
          "2021-12-01T00:46:04",
          "2021-12-01T01:09:15",
          "2021-12-01T01:25:15",
          "2021-12-01T01:45:23"
         ],
         "yaxis": "y"
        },
        {
         "hovertemplate": "name=Arnau Martínez Tomàs<br>day=%{x}<br>time=%{y}<extra></extra>",
         "legendgroup": "Arnau Martínez Tomàs",
         "line": {
          "color": "#FFA15A",
          "dash": "solid"
         },
         "marker": {
          "symbol": "circle"
         },
         "mode": "markers+lines",
         "name": "Arnau Martínez Tomàs",
         "orientation": "h",
         "showlegend": true,
         "type": "scatter",
         "x": [
          1,
          2,
          3,
          4,
          5
         ],
         "xaxis": "x",
         "y": [
          "2021-12-01T00:45:12",
          "2021-12-01T01:10:59",
          "2021-12-01T01:41:51",
          "2021-12-01T01:54:32",
          "2021-12-01T02:17:57"
         ],
         "yaxis": "y"
        },
        {
         "hovertemplate": "name=Arnau Q<br>day=%{x}<br>time=%{y}<extra></extra>",
         "legendgroup": "Arnau Q",
         "line": {
          "color": "#19d3f3",
          "dash": "solid"
         },
         "marker": {
          "symbol": "circle"
         },
         "mode": "markers+lines",
         "name": "Arnau Q",
         "orientation": "h",
         "showlegend": true,
         "type": "scatter",
         "x": [
          1,
          2,
          3,
          4,
          5
         ],
         "xaxis": "x",
         "y": [
          "2021-12-01T00:02:38",
          "2021-12-01T00:05:45",
          "2021-12-01T00:35:59",
          "2021-12-01T00:47:56",
          "2021-12-01T01:08:01"
         ],
         "yaxis": "y"
        },
        {
         "hovertemplate": "name=David Rial Figols<br>day=%{x}<br>time=%{y}<extra></extra>",
         "legendgroup": "David Rial Figols",
         "line": {
          "color": "#FF6692",
          "dash": "solid"
         },
         "marker": {
          "symbol": "circle"
         },
         "mode": "markers+lines",
         "name": "David Rial Figols",
         "orientation": "h",
         "showlegend": true,
         "type": "scatter",
         "x": [
          1,
          2,
          3,
          4,
          5
         ],
         "xaxis": "x",
         "y": [
          "2021-12-01T00:08:55",
          "2021-12-01T00:11:38",
          "2021-12-01T00:48:23",
          "2021-12-01T00:55:15",
          "2021-12-01T01:18:51"
         ],
         "yaxis": "y"
        },
        {
         "hovertemplate": "name=Antonio Tigri<br>day=%{x}<br>time=%{y}<extra></extra>",
         "legendgroup": "Antonio Tigri",
         "line": {
          "color": "#B6E880",
          "dash": "solid"
         },
         "marker": {
          "symbol": "circle"
         },
         "mode": "markers+lines",
         "name": "Antonio Tigri",
         "orientation": "h",
         "showlegend": true,
         "type": "scatter",
         "x": [
          1,
          2,
          3,
          4,
          5
         ],
         "xaxis": "x",
         "y": [
          "2021-12-01T00:12:46",
          "2021-12-01T00:16:38",
          "2021-12-01T00:51:03",
          "2021-12-01T01:08:44",
          "2021-12-01T01:32:05"
         ],
         "yaxis": "y"
        }
       ],
       "layout": {
        "legend": {
         "title": {
          "text": "name"
         },
         "tracegroupgap": 0
        },
        "template": {
         "data": {
          "bar": [
           {
            "error_x": {
             "color": "#2a3f5f"
            },
            "error_y": {
             "color": "#2a3f5f"
            },
            "marker": {
             "line": {
              "color": "#E5ECF6",
              "width": 0.5
             },
             "pattern": {
              "fillmode": "overlay",
              "size": 10,
              "solidity": 0.2
             }
            },
            "type": "bar"
           }
          ],
          "barpolar": [
           {
            "marker": {
             "line": {
              "color": "#E5ECF6",
              "width": 0.5
             },
             "pattern": {
              "fillmode": "overlay",
              "size": 10,
              "solidity": 0.2
             }
            },
            "type": "barpolar"
           }
          ],
          "carpet": [
           {
            "aaxis": {
             "endlinecolor": "#2a3f5f",
             "gridcolor": "white",
             "linecolor": "white",
             "minorgridcolor": "white",
             "startlinecolor": "#2a3f5f"
            },
            "baxis": {
             "endlinecolor": "#2a3f5f",
             "gridcolor": "white",
             "linecolor": "white",
             "minorgridcolor": "white",
             "startlinecolor": "#2a3f5f"
            },
            "type": "carpet"
           }
          ],
          "choropleth": [
           {
            "colorbar": {
             "outlinewidth": 0,
             "ticks": ""
            },
            "type": "choropleth"
           }
          ],
          "contour": [
           {
            "colorbar": {
             "outlinewidth": 0,
             "ticks": ""
            },
            "colorscale": [
             [
              0,
              "#0d0887"
             ],
             [
              0.1111111111111111,
              "#46039f"
             ],
             [
              0.2222222222222222,
              "#7201a8"
             ],
             [
              0.3333333333333333,
              "#9c179e"
             ],
             [
              0.4444444444444444,
              "#bd3786"
             ],
             [
              0.5555555555555556,
              "#d8576b"
             ],
             [
              0.6666666666666666,
              "#ed7953"
             ],
             [
              0.7777777777777778,
              "#fb9f3a"
             ],
             [
              0.8888888888888888,
              "#fdca26"
             ],
             [
              1,
              "#f0f921"
             ]
            ],
            "type": "contour"
           }
          ],
          "contourcarpet": [
           {
            "colorbar": {
             "outlinewidth": 0,
             "ticks": ""
            },
            "type": "contourcarpet"
           }
          ],
          "heatmap": [
           {
            "colorbar": {
             "outlinewidth": 0,
             "ticks": ""
            },
            "colorscale": [
             [
              0,
              "#0d0887"
             ],
             [
              0.1111111111111111,
              "#46039f"
             ],
             [
              0.2222222222222222,
              "#7201a8"
             ],
             [
              0.3333333333333333,
              "#9c179e"
             ],
             [
              0.4444444444444444,
              "#bd3786"
             ],
             [
              0.5555555555555556,
              "#d8576b"
             ],
             [
              0.6666666666666666,
              "#ed7953"
             ],
             [
              0.7777777777777778,
              "#fb9f3a"
             ],
             [
              0.8888888888888888,
              "#fdca26"
             ],
             [
              1,
              "#f0f921"
             ]
            ],
            "type": "heatmap"
           }
          ],
          "heatmapgl": [
           {
            "colorbar": {
             "outlinewidth": 0,
             "ticks": ""
            },
            "colorscale": [
             [
              0,
              "#0d0887"
             ],
             [
              0.1111111111111111,
              "#46039f"
             ],
             [
              0.2222222222222222,
              "#7201a8"
             ],
             [
              0.3333333333333333,
              "#9c179e"
             ],
             [
              0.4444444444444444,
              "#bd3786"
             ],
             [
              0.5555555555555556,
              "#d8576b"
             ],
             [
              0.6666666666666666,
              "#ed7953"
             ],
             [
              0.7777777777777778,
              "#fb9f3a"
             ],
             [
              0.8888888888888888,
              "#fdca26"
             ],
             [
              1,
              "#f0f921"
             ]
            ],
            "type": "heatmapgl"
           }
          ],
          "histogram": [
           {
            "marker": {
             "pattern": {
              "fillmode": "overlay",
              "size": 10,
              "solidity": 0.2
             }
            },
            "type": "histogram"
           }
          ],
          "histogram2d": [
           {
            "colorbar": {
             "outlinewidth": 0,
             "ticks": ""
            },
            "colorscale": [
             [
              0,
              "#0d0887"
             ],
             [
              0.1111111111111111,
              "#46039f"
             ],
             [
              0.2222222222222222,
              "#7201a8"
             ],
             [
              0.3333333333333333,
              "#9c179e"
             ],
             [
              0.4444444444444444,
              "#bd3786"
             ],
             [
              0.5555555555555556,
              "#d8576b"
             ],
             [
              0.6666666666666666,
              "#ed7953"
             ],
             [
              0.7777777777777778,
              "#fb9f3a"
             ],
             [
              0.8888888888888888,
              "#fdca26"
             ],
             [
              1,
              "#f0f921"
             ]
            ],
            "type": "histogram2d"
           }
          ],
          "histogram2dcontour": [
           {
            "colorbar": {
             "outlinewidth": 0,
             "ticks": ""
            },
            "colorscale": [
             [
              0,
              "#0d0887"
             ],
             [
              0.1111111111111111,
              "#46039f"
             ],
             [
              0.2222222222222222,
              "#7201a8"
             ],
             [
              0.3333333333333333,
              "#9c179e"
             ],
             [
              0.4444444444444444,
              "#bd3786"
             ],
             [
              0.5555555555555556,
              "#d8576b"
             ],
             [
              0.6666666666666666,
              "#ed7953"
             ],
             [
              0.7777777777777778,
              "#fb9f3a"
             ],
             [
              0.8888888888888888,
              "#fdca26"
             ],
             [
              1,
              "#f0f921"
             ]
            ],
            "type": "histogram2dcontour"
           }
          ],
          "mesh3d": [
           {
            "colorbar": {
             "outlinewidth": 0,
             "ticks": ""
            },
            "type": "mesh3d"
           }
          ],
          "parcoords": [
           {
            "line": {
             "colorbar": {
              "outlinewidth": 0,
              "ticks": ""
             }
            },
            "type": "parcoords"
           }
          ],
          "pie": [
           {
            "automargin": true,
            "type": "pie"
           }
          ],
          "scatter": [
           {
            "marker": {
             "colorbar": {
              "outlinewidth": 0,
              "ticks": ""
             }
            },
            "type": "scatter"
           }
          ],
          "scatter3d": [
           {
            "line": {
             "colorbar": {
              "outlinewidth": 0,
              "ticks": ""
             }
            },
            "marker": {
             "colorbar": {
              "outlinewidth": 0,
              "ticks": ""
             }
            },
            "type": "scatter3d"
           }
          ],
          "scattercarpet": [
           {
            "marker": {
             "colorbar": {
              "outlinewidth": 0,
              "ticks": ""
             }
            },
            "type": "scattercarpet"
           }
          ],
          "scattergeo": [
           {
            "marker": {
             "colorbar": {
              "outlinewidth": 0,
              "ticks": ""
             }
            },
            "type": "scattergeo"
           }
          ],
          "scattergl": [
           {
            "marker": {
             "colorbar": {
              "outlinewidth": 0,
              "ticks": ""
             }
            },
            "type": "scattergl"
           }
          ],
          "scattermapbox": [
           {
            "marker": {
             "colorbar": {
              "outlinewidth": 0,
              "ticks": ""
             }
            },
            "type": "scattermapbox"
           }
          ],
          "scatterpolar": [
           {
            "marker": {
             "colorbar": {
              "outlinewidth": 0,
              "ticks": ""
             }
            },
            "type": "scatterpolar"
           }
          ],
          "scatterpolargl": [
           {
            "marker": {
             "colorbar": {
              "outlinewidth": 0,
              "ticks": ""
             }
            },
            "type": "scatterpolargl"
           }
          ],
          "scatterternary": [
           {
            "marker": {
             "colorbar": {
              "outlinewidth": 0,
              "ticks": ""
             }
            },
            "type": "scatterternary"
           }
          ],
          "surface": [
           {
            "colorbar": {
             "outlinewidth": 0,
             "ticks": ""
            },
            "colorscale": [
             [
              0,
              "#0d0887"
             ],
             [
              0.1111111111111111,
              "#46039f"
             ],
             [
              0.2222222222222222,
              "#7201a8"
             ],
             [
              0.3333333333333333,
              "#9c179e"
             ],
             [
              0.4444444444444444,
              "#bd3786"
             ],
             [
              0.5555555555555556,
              "#d8576b"
             ],
             [
              0.6666666666666666,
              "#ed7953"
             ],
             [
              0.7777777777777778,
              "#fb9f3a"
             ],
             [
              0.8888888888888888,
              "#fdca26"
             ],
             [
              1,
              "#f0f921"
             ]
            ],
            "type": "surface"
           }
          ],
          "table": [
           {
            "cells": {
             "fill": {
              "color": "#EBF0F8"
             },
             "line": {
              "color": "white"
             }
            },
            "header": {
             "fill": {
              "color": "#C8D4E3"
             },
             "line": {
              "color": "white"
             }
            },
            "type": "table"
           }
          ]
         },
         "layout": {
          "annotationdefaults": {
           "arrowcolor": "#2a3f5f",
           "arrowhead": 0,
           "arrowwidth": 1
          },
          "autotypenumbers": "strict",
          "coloraxis": {
           "colorbar": {
            "outlinewidth": 0,
            "ticks": ""
           }
          },
          "colorscale": {
           "diverging": [
            [
             0,
             "#8e0152"
            ],
            [
             0.1,
             "#c51b7d"
            ],
            [
             0.2,
             "#de77ae"
            ],
            [
             0.3,
             "#f1b6da"
            ],
            [
             0.4,
             "#fde0ef"
            ],
            [
             0.5,
             "#f7f7f7"
            ],
            [
             0.6,
             "#e6f5d0"
            ],
            [
             0.7,
             "#b8e186"
            ],
            [
             0.8,
             "#7fbc41"
            ],
            [
             0.9,
             "#4d9221"
            ],
            [
             1,
             "#276419"
            ]
           ],
           "sequential": [
            [
             0,
             "#0d0887"
            ],
            [
             0.1111111111111111,
             "#46039f"
            ],
            [
             0.2222222222222222,
             "#7201a8"
            ],
            [
             0.3333333333333333,
             "#9c179e"
            ],
            [
             0.4444444444444444,
             "#bd3786"
            ],
            [
             0.5555555555555556,
             "#d8576b"
            ],
            [
             0.6666666666666666,
             "#ed7953"
            ],
            [
             0.7777777777777778,
             "#fb9f3a"
            ],
            [
             0.8888888888888888,
             "#fdca26"
            ],
            [
             1,
             "#f0f921"
            ]
           ],
           "sequentialminus": [
            [
             0,
             "#0d0887"
            ],
            [
             0.1111111111111111,
             "#46039f"
            ],
            [
             0.2222222222222222,
             "#7201a8"
            ],
            [
             0.3333333333333333,
             "#9c179e"
            ],
            [
             0.4444444444444444,
             "#bd3786"
            ],
            [
             0.5555555555555556,
             "#d8576b"
            ],
            [
             0.6666666666666666,
             "#ed7953"
            ],
            [
             0.7777777777777778,
             "#fb9f3a"
            ],
            [
             0.8888888888888888,
             "#fdca26"
            ],
            [
             1,
             "#f0f921"
            ]
           ]
          },
          "colorway": [
           "#636efa",
           "#EF553B",
           "#00cc96",
           "#ab63fa",
           "#FFA15A",
           "#19d3f3",
           "#FF6692",
           "#B6E880",
           "#FF97FF",
           "#FECB52"
          ],
          "font": {
           "color": "#2a3f5f"
          },
          "geo": {
           "bgcolor": "white",
           "lakecolor": "white",
           "landcolor": "#E5ECF6",
           "showlakes": true,
           "showland": true,
           "subunitcolor": "white"
          },
          "hoverlabel": {
           "align": "left"
          },
          "hovermode": "closest",
          "mapbox": {
           "style": "light"
          },
          "paper_bgcolor": "white",
          "plot_bgcolor": "#E5ECF6",
          "polar": {
           "angularaxis": {
            "gridcolor": "white",
            "linecolor": "white",
            "ticks": ""
           },
           "bgcolor": "#E5ECF6",
           "radialaxis": {
            "gridcolor": "white",
            "linecolor": "white",
            "ticks": ""
           }
          },
          "scene": {
           "xaxis": {
            "backgroundcolor": "#E5ECF6",
            "gridcolor": "white",
            "gridwidth": 2,
            "linecolor": "white",
            "showbackground": true,
            "ticks": "",
            "zerolinecolor": "white"
           },
           "yaxis": {
            "backgroundcolor": "#E5ECF6",
            "gridcolor": "white",
            "gridwidth": 2,
            "linecolor": "white",
            "showbackground": true,
            "ticks": "",
            "zerolinecolor": "white"
           },
           "zaxis": {
            "backgroundcolor": "#E5ECF6",
            "gridcolor": "white",
            "gridwidth": 2,
            "linecolor": "white",
            "showbackground": true,
            "ticks": "",
            "zerolinecolor": "white"
           }
          },
          "shapedefaults": {
           "line": {
            "color": "#2a3f5f"
           }
          },
          "ternary": {
           "aaxis": {
            "gridcolor": "white",
            "linecolor": "white",
            "ticks": ""
           },
           "baxis": {
            "gridcolor": "white",
            "linecolor": "white",
            "ticks": ""
           },
           "bgcolor": "#E5ECF6",
           "caxis": {
            "gridcolor": "white",
            "linecolor": "white",
            "ticks": ""
           }
          },
          "title": {
           "x": 0.05
          },
          "xaxis": {
           "automargin": true,
           "gridcolor": "white",
           "linecolor": "white",
           "ticks": "",
           "title": {
            "standoff": 15
           },
           "zerolinecolor": "white",
           "zerolinewidth": 2
          },
          "yaxis": {
           "automargin": true,
           "gridcolor": "white",
           "linecolor": "white",
           "ticks": "",
           "title": {
            "standoff": 15
           },
           "zerolinecolor": "white",
           "zerolinewidth": 2
          }
         }
        },
        "title": {
         "text": "Accumulated Second Part Spent Time"
        },
        "xaxis": {
         "anchor": "y",
         "domain": [
          0,
          1
         ],
         "dtick": 1,
         "title": {
          "text": "day"
         }
        },
        "yaxis": {
         "anchor": "x",
         "domain": [
          0,
          1
         ],
         "tickformat": "%H:%M",
         "title": {
          "text": "time"
         }
        }
       }
      }
     },
     "metadata": {},
     "output_type": "display_data"
    }
   ],
   "source": [
    "times_data = []\n",
    "for _, row in acc_times.iterrows():\n",
    "    for day in range(1, n_days+1):\n",
    "        time = row[str(day)]\n",
    "        if not pd.isnull(time):\n",
    "            times_data.append({'name': row['name'], 'day': day, 'time': time+base})\n",
    "\n",
    "times = pd.DataFrame(times_data)\n",
    "\n",
    "fig = px.line(times, x='day', y='time', line_group='name', color='name', markers=True, title='Accumulated Second Part Spent Time')\n",
    "\n",
    "fig.update_yaxes(tickformat='%H:%M')\n",
    "fig.update_xaxes(dtick=1)\n",
    "\n",
    "po.iplot(fig)"
   ]
  },
  {
   "cell_type": "code",
   "execution_count": null,
   "metadata": {},
   "outputs": [],
   "source": []
  }
 ],
 "metadata": {
  "interpreter": {
   "hash": "d7ef188bd47c1d2342427d822ecf6ad7f27bcf57e5fec9afcc2c1cd5c3b5c954"
  },
  "kernelspec": {
   "display_name": "Python 3.9.5 64-bit",
   "language": "python",
   "name": "python3"
  },
  "language_info": {
   "codemirror_mode": {
    "name": "ipython",
    "version": 3
   },
   "file_extension": ".py",
   "mimetype": "text/x-python",
   "name": "python",
   "nbconvert_exporter": "python",
   "pygments_lexer": "ipython3",
   "version": "3.9.5"
  },
  "orig_nbformat": 4
 },
 "nbformat": 4,
 "nbformat_minor": 2
}
